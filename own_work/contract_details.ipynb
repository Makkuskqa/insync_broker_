{
 "cells": [
  {
   "cell_type": "code",
   "execution_count": 1,
   "metadata": {},
   "outputs": [
    {
     "data": {
      "text/plain": [
       "<IB connected to 127.0.0.1:4002 clientId=15>"
      ]
     },
     "execution_count": 1,
     "metadata": {},
     "output_type": "execute_result"
    }
   ],
   "source": [
    "from ib_insync import *\n",
    "util.startLoop()\n",
    "\n",
    "import logging\n",
    "# util.logToConsole(logging.DEBUG)\n",
    "\n",
    "ib = IB()\n",
    "ib.connect('127.0.0.1', 4002, clientId=15)"
   ]
  },
  {
   "cell_type": "markdown",
   "metadata": {},
   "source": [
    "## CRYPTO"
   ]
  },
  {
   "cell_type": "code",
   "execution_count": 3,
   "metadata": {},
   "outputs": [
    {
     "name": "stderr",
     "output_type": "stream",
     "text": [
      "Ambiguous contract: Crypto(symbol='ETH'), possibles are [Contract(secType='CRYPTO', conId=495759171, symbol='ETH', exchange='PAXOS', currency='USD', localSymbol='ETH.USD', tradingClass='ETH'), Contract(secType='CRYPTO', conId=541686654, symbol='ETH', exchange='ZEROHASH', currency='USD', localSymbol='ETH.USD', tradingClass='ETH'), Contract(secType='CRYPTO', conId=557335680, symbol='ETH', exchange='OSL', currency='USD', localSymbol='ETH.USD', tradingClass='ETH')]\n"
     ]
    },
    {
     "data": {
      "text/plain": [
       "[]"
      ]
     },
     "execution_count": 3,
     "metadata": {},
     "output_type": "execute_result"
    }
   ],
   "source": [
    "contract = Crypto('ETH')\n",
    "ib.qualifyContracts(contract)"
   ]
  },
  {
   "cell_type": "code",
   "execution_count": null,
   "metadata": {},
   "outputs": [],
   "source": []
  },
  {
   "cell_type": "code",
   "execution_count": null,
   "metadata": {},
   "outputs": [],
   "source": []
  },
  {
   "cell_type": "markdown",
   "metadata": {},
   "source": [
    "## STOCK"
   ]
  },
  {
   "cell_type": "code",
   "execution_count": null,
   "metadata": {},
   "outputs": [],
   "source": [
    "# 2B5"
   ]
  },
  {
   "cell_type": "code",
   "execution_count": 2,
   "metadata": {},
   "outputs": [
    {
     "name": "stderr",
     "output_type": "stream",
     "text": [
      "Ambiguous contract: Stock(symbol='2B5'), possibles are [Contract(secType='STK', conId=393214961, symbol='2B5', exchange='SMART', primaryExchange='FWB2', currency='EUR', localSymbol='2B5', tradingClass='XETRA'), Contract(secType='STK', conId=393214961, symbol='2B5', exchange='FWB2', primaryExchange='FWB2', currency='EUR', localSymbol='2B5', tradingClass='XETRA'), Contract(secType='STK', conId=393214961, symbol='2B5', exchange='SWB2', primaryExchange='FWB2', currency='EUR', localSymbol='2B5', tradingClass='2B5'), Contract(secType='STK', conId=393214961, symbol='2B5', exchange='GETTEX2', primaryExchange='FWB2', currency='EUR', localSymbol='2B5', tradingClass='2B5')]\n"
     ]
    },
    {
     "data": {
      "text/plain": [
       "[]"
      ]
     },
     "execution_count": 2,
     "metadata": {},
     "output_type": "execute_result"
    }
   ],
   "source": [
    "contract = Stock(symbol='2B5')\n",
    "ib.qualifyContracts(contract)"
   ]
  },
  {
   "cell_type": "code",
   "execution_count": 7,
   "metadata": {},
   "outputs": [],
   "source": [
    "con1 = Contract(secType='STK', conId=393214961, symbol='2B5', exchange='SMART', primaryExchange='FWB2', currency='EUR', localSymbol='2B5', tradingClass='XETRA')\n",
    "con2 = Contract(secType='STK', conId=393214961, symbol='2B5', exchange='FWB2', primaryExchange='FWB2', currency='EUR', localSymbol='2B5', tradingClass='XETRA')\n",
    "con3 = Contract(secType='STK', conId=393214961, symbol='2B5', exchange='SWB2', primaryExchange='FWB2', currency='EUR', localSymbol='2B5', tradingClass='2B5')\n",
    "con4 = Contract(secType='STK', conId=393214961, symbol='2B5', exchange='GETTEX2', primaryExchange='FWB2', currency='EUR', localSymbol='2B5', tradingClass='2B5')"
   ]
  },
  {
   "cell_type": "code",
   "execution_count": 38,
   "metadata": {},
   "outputs": [],
   "source": [
    "#! APPL TEST \n",
    "#contract = Stock(symbol='AAPL')\n",
    "#ib.qualifyContracts(contract)\n",
    "#appl_con = Contract(secType='STK', conId=265598, symbol='AAPL', exchange='SMART', primaryExchange='NASDAQ', currency='USD', localSymbol='AAPL', tradingClass='NMS')\n",
    "\n",
    "\n",
    "#! PEGR TEST  (0 in latest MC)\n",
    "#contract = Stock(symbol='PEGRW')   #PEGR  & PEGRW\n",
    "#ib.qualifyContracts(contract)\n",
    "# RESULT : Unknown contract: Stock(symbol='PEGRW')\n",
    "\n",
    "\n",
    "#! WWG TEST (different mc in latest MC)  F DU BE exchanges\n",
    "#WWG_conn = Stock(symbol='WWG')   \n",
    "#ib.qualifyContracts(contract)\n",
    "WWG_conn = Contract(secType='STK', conId=4811355, symbol='WWG', exchange='SMART', primaryExchange='FWB', currency='EUR', localSymbol='WWG', tradingClass='XETRA')"
   ]
  },
  {
   "cell_type": "code",
   "execution_count": 39,
   "metadata": {},
   "outputs": [],
   "source": [
    "fundamentals = ib.reqFundamentalData(WWG_conn, 'ReportSnapshot')"
   ]
  },
  {
   "cell_type": "code",
   "execution_count": 40,
   "metadata": {},
   "outputs": [
    {
     "name": "stdout",
     "output_type": "stream",
     "text": [
      "EUR 1959.375\n"
     ]
    }
   ],
   "source": [
    "if fundamentals:\n",
    "    root = ET.fromstring(fundamentals)\n",
    "    ratios = root.find(\".//Ratios\")\n",
    "    if ratios is not None:\n",
    "        price_currency = ratios.get(\"PriceCurrency\")\n",
    "        mktcap = root.find(\".//Ratio[@FieldName='MKTCAP']\")\n",
    "        if mktcap is not None:\n",
    "            print(price_currency, float(mktcap.text))\n"
   ]
  },
  {
   "cell_type": "code",
   "execution_count": 41,
   "metadata": {},
   "outputs": [
    {
     "data": {
      "text/plain": [
       "'<?xml version=\"1.0\" encoding=\"UTF-8\"?>\\r\\n<ReportSnapshot Major=\"1\" Minor=\"0\" Revision=\"1\">\\r\\n\\t<CoIDs>\\r\\n\\t\\t<CoID Type=\"RepNo\">A4170</CoID>\\r\\n\\t\\t<CoID Type=\"CompanyName\">GELSENWASSER AG</CoID>\\r\\n\\t\\t<CoID Type=\"OrganizationPermID\">4295868943</CoID>\\r\\n\\t</CoIDs>\\r\\n\\t<Issues>\\r\\n\\t\\t<Issue ID=\"1\" Type=\"C\" Desc=\"Common Stock\" Order=\"1\">\\r\\n\\t\\t\\t<IssueID Type=\"Name\">Ordinary Shares</IssueID>\\r\\n\\t\\t\\t<IssueID Type=\"Ticker\">WWG</IssueID>\\r\\n\\t\\t\\t<IssueID Type=\"ISIN\">DE0007760001</IssueID>\\r\\n\\t\\t\\t<IssueID Type=\"RIC\">WWGG.F</IssueID>\\r\\n\\t\\t\\t<IssueID Type=\"DisplayRIC\">WWGG.F</IssueID>\\r\\n\\t\\t\\t<IssueID Type=\"InstrumentPI\">257396</IssueID>\\r\\n\\t\\t\\t<IssueID Type=\"QuotePI\">722027</IssueID>\\r\\n\\t\\t\\t<IssueID Type=\"InstrumentPermID\">8589975862</IssueID>\\r\\n\\t\\t\\t<IssueID Type=\"QuotePermID\">55836551912</IssueID>\\r\\n\\t\\t\\t<Exchange Code=\"FRA\" Country=\"DEU\">Frankfurt Stock Exchange</Exchange>\\r\\n\\t\\t\\t<GlobalListingType>OSR</GlobalListingType>\\r\\n\\t\\t</Issue>\\r\\n\\t</Issues>\\r\\n\\t<CoGeneralInfo>\\r\\n\\t\\t<CoStatus Code=\"1\">Active</CoStatus>\\r\\n\\t\\t<CoType Code=\"EQU\">Equity Issue</CoType>\\r\\n\\t\\t<LastModified>2024-05-17</LastModified>\\r\\n\\t\\t<LatestAvailableAnnual>2023-12-31</LatestAvailableAnnual>\\r\\n\\t\\t<LatestAvailableInterim>2024-03-31</LatestAvailableInterim>\\r\\n\\t\\t<Employees LastUpdated=\"2023-12-31\">1744</Employees>\\r\\n\\t\\t<SharesOut Date=\"2023-12-31\" TotalFloat=\"242900.0\">3437500.0</SharesOut>\\r\\n\\t\\t<ReportingCurrency Code=\"EUR\">Euro</ReportingCurrency>\\r\\n\\t\\t<MostRecentExchange Date=\"2024-08-02\">0.91676</MostRecentExchange>\\r\\n\\t</CoGeneralInfo>\\r\\n\\t<TextInfo>\\r\\n\\t\\t<Text Type=\"Business Summary\" lastModified=\"2024-04-08T05:43:24\">Gelsenwasser AG is a Germany-based company engaged in providing services for drinking water, energy supply, wastewater disposal and other services. The Company operates through five segments: Water, Wastewater, Energy networks, Energy Procurement &amp; Sales and Investments &amp; Projects. The Water segment mainly includes production, purchase and sale, transport and distribution of drinking water. The Wastewater segment provides in addition to the investments in all activities of Chemiepark Bitterfeld-Wolfen GmbH are reported in the wastewater business. The Energy Networks segment consists of GELSENWASSER\\'s gas and electricity network activities Energienetze GmbH and investments in energy network companies. The Energy Procurement &amp; Sales segment focuses on purchase and sale of natural gas and electricity and heat to household customers, energy procurement and energy trading business. The Investments &amp; Projects segment includes all investments that do not clearly belong to other four segments.</Text>\\r\\n\\t\\t<Text Type=\"Financial Summary\" lastModified=\"2024-05-17T09:30:39\"> BRIEF: For the fiscal year ended 31 December 2023, GELSENWASSER AG revenues decreased 70% to EUR4.05B. Net income increased 62% to EUR132.8M. Revenues reflect Energy distribution segment decrease of 5% to EUR5.37B, Other segment decrease of 10% to EUR12.4M. Net Income benefited from Other Operating Expense decrease of 40% to EUR4.2B (expense), Equity Earnings -Before Taxes increase of 30% to EUR63.2M (income).</Text>\\r\\n\\t</TextInfo>\\r\\n\\t<contactInfo lastUpdated=\"2024-08-01T08:04:47\">\\r\\n\\t\\t<streetAddress line=\"1\">Willy-brandt-allee 26</streetAddress>\\r\\n\\t\\t<streetAddress line=\"2\"></streetAddress>\\r\\n\\t\\t<streetAddress line=\"3\"></streetAddress>\\r\\n\\t\\t<city>GELSENKIRCHEN</city>\\r\\n\\t\\t<state-region></state-region>\\r\\n\\t\\t<postalCode>45891</postalCode>\\r\\n\\t\\t<country code=\"DEU\">Germany</country>\\r\\n\\t\\t<contactName></contactName>\\r\\n\\t\\t<contactTitle></contactTitle>\\r\\n\\t\\t<phone>\\r\\n\\t\\t\\t<phone type=\"mainphone\">\\r\\n\\t\\t\\t\\t<countryPhoneCode>49</countryPhoneCode>\\r\\n\\t\\t\\t\\t<city-areacode>209</city-areacode>\\r\\n\\t\\t\\t\\t<number>7080</number>\\r\\n\\t\\t\\t</phone>\\r\\n\\t\\t\\t<phone type=\"mainfax\">\\r\\n\\t\\t\\t\\t<countryPhoneCode>49</countryPhoneCode>\\r\\n\\t\\t\\t\\t<city-areacode>209</city-areacode>\\r\\n\\t\\t\\t\\t<number>708650</number>\\r\\n\\t\\t\\t</phone>\\r\\n\\t\\t</phone>\\r\\n\\t</contactInfo>\\r\\n\\t<webLinks lastUpdated=\"2017-05-02T12:46:31\"><webSite mainCategory=\"Home Page\">https://www.gelsenwasser.de/</webSite><eMail mainCategory=\"Company Contact/E-mail\">\\r\\n\\t\\t</eMail></webLinks>\\r\\n\\t<peerInfo lastUpdated=\"2024-08-01T08:04:47\">\\r\\n\\t\\t<IndustryInfo>\\r\\n\\t\\t\\t<Industry type=\"TRBC\" order=\"1\" reported=\"0\" code=\"5910201011\" mnem=\"\">Natural Gas Distribution</Industry>\\r\\n\\t\\t\\t<Industry type=\"NAICS\" order=\"1\" reported=\"0\" code=\"221210\" mnem=\"\">Natural Gas Distribution</Industry>\\r\\n\\t\\t\\t<Industry type=\"NAICS\" order=\"2\" reported=\"0\" code=\"221310\" mnem=\"\">Water Supply and Irrigation Systems</Industry>\\r\\n\\t\\t\\t<Industry type=\"NAICS\" order=\"3\" reported=\"0\" code=\"221122\" mnem=\"\">Electric Power Distribution</Industry>\\r\\n\\t\\t\\t<Industry type=\"NAICS\" order=\"4\" reported=\"0\" code=\"221320\" mnem=\"\">Sewage Treatment Facilities</Industry>\\r\\n\\t\\t\\t<Industry type=\"SIC\" order=\"1\" reported=\"0\" code=\"4924\" mnem=\"\">Natural Gas Distribution</Industry>\\r\\n\\t\\t\\t<Industry type=\"SIC\" order=\"2\" reported=\"0\" code=\"4941\" mnem=\"\">Water Supply</Industry>\\r\\n\\t\\t\\t<Industry type=\"SIC\" order=\"3\" reported=\"0\" code=\"4911\" mnem=\"\">Electric Services</Industry>\\r\\n\\t\\t\\t<Industry type=\"SIC\" order=\"4\" reported=\"0\" code=\"4952\" mnem=\"\">Sewerage Systems</Industry>\\r\\n\\t\\t</IndustryInfo>\\r\\n\\t</peerInfo>\\r\\n\\t<officers>\\r\\n\\t\\t<officer rank=\"1\" since=\"06/01/2017\">\\r\\n\\t\\t\\t<firstName>Frank</firstName>\\r\\n\\t\\t\\t<mI></mI>\\r\\n\\t\\t\\t<lastName>Thiel</lastName>\\r\\n\\t\\t\\t<age></age>\\r\\n\\t\\t\\t<title startYear=\"2021\" startMonth=\"06\" startDay=\"09\" iD1=\"CSU\" abbr1=\"Chmn.-Sup.\" iD2=\"IND\" abbr2=\"Ind. Dir.\">Independent Chairman of the Supervisory Board</title>\\r\\n\\t\\t</officer>\\r\\n\\t\\t<officer rank=\"2\" since=\"10/01/2011\">\\r\\n\\t\\t\\t<firstName>Henning</firstName>\\r\\n\\t\\t\\t<mI>Rolf</mI>\\r\\n\\t\\t\\t<lastName>Deters</lastName>\\r\\n\\t\\t\\t<age>55 </age>\\r\\n\\t\\t\\t<title startYear=\"2021\" startMonth=\"\" startDay=\"\" iD1=\"CMG\" abbr1=\"Chmn.-Mgt.\" iD2=\"CEO\" abbr2=\"CEO\">Chairman of the Management Board, Chief Executive Officer</title>\\r\\n\\t\\t</officer>\\r\\n\\t\\t<officer rank=\"3\" since=\"06/09/2021\">\\r\\n\\t\\t\\t<firstName>Stefan</firstName>\\r\\n\\t\\t\\t<mI></mI>\\r\\n\\t\\t\\t<lastName>Kurpanek</lastName>\\r\\n\\t\\t\\t<age></age>\\r\\n\\t\\t\\t<title startYear=\"2021\" startMonth=\"06\" startDay=\"09\" iD1=\"VSU\" abbr1=\"Vice Ch.-Sup.\" iD2=\"DRC\" abbr2=\"Dir.\">Deputy Chairman of the Supervisory Board, Employee Representative</title>\\r\\n\\t\\t</officer>\\r\\n\\t\\t<officer rank=\"4\" since=\"10/01/2006\">\\r\\n\\t\\t\\t<firstName>Guntram</firstName>\\r\\n\\t\\t\\t<mI></mI>\\r\\n\\t\\t\\t<lastName>Pehlke</lastName>\\r\\n\\t\\t\\t<age></age>\\r\\n\\t\\t\\t<title startYear=\"2021\" startMonth=\"06\" startDay=\"09\" iD1=\"VSU\" abbr1=\"Vice Ch.-Sup.\" iD2=\"IND\" abbr2=\"Ind. Dir.\">Independent Deputy Chairman of the Supervisory Board</title>\\r\\n\\t\\t</officer>\\r\\n\\t\\t<officer rank=\"5\" since=\"01/01/2013\">\\r\\n\\t\\t\\t<firstName>Dirk</firstName>\\r\\n\\t\\t\\t<mI></mI>\\r\\n\\t\\t\\t<lastName>Waider</lastName>\\r\\n\\t\\t\\t<age></age>\\r\\n\\t\\t\\t<title startYear=\"2013\" startMonth=\"01\" startDay=\"01\" iD1=\"MGB\" abbr1=\"Mgt.Bd.\" iD2=\"\" abbr2=\"\">Member of the Management Board</title>\\r\\n\\t\\t</officer>\\r\\n\\t</officers>\\r\\n\\t<Ratios PriceCurrency=\"EUR\" ReportingCurrency=\"EUR\" ExchangeRate=\"1.00000\" LatestAvailableDate=\"2023-12-31\">\\r\\n\\t\\t<Group ID=\"Price and Volume\">\\r\\n\\t\\t\\t<Ratio FieldName=\"NPRICE\" Type=\"N\">570.00000</Ratio>\\r\\n\\t\\t\\t<Ratio FieldName=\"NHIG\" Type=\"N\">955.00000</Ratio>\\r\\n\\t\\t\\t<Ratio FieldName=\"NLOW\" Type=\"N\">555.00000</Ratio>\\r\\n\\t\\t\\t<Ratio FieldName=\"PDATE\" Type=\"D\">2024-08-07T00:00:00</Ratio>\\r\\n\\t\\t\\t<Ratio FieldName=\"VOL10DAVG\" Type=\"N\">0.00000</Ratio>\\r\\n\\t\\t\\t<Ratio FieldName=\"EV\" Type=\"N\">1286.37500</Ratio>\\r\\n\\t\\t</Group>\\r\\n\\t\\t<Group ID=\"Income Statement\">\\r\\n\\t\\t\\t<Ratio FieldName=\"MKTCAP\" Type=\"N\">1959.37500</Ratio>\\r\\n\\t\\t\\t<Ratio FieldName=\"AREV\" Type=\"N\">4049.70000</Ratio>\\r\\n\\t\\t\\t<Ratio FieldName=\"AEBITD\" Type=\"N\">159.50000</Ratio>\\r\\n\\t\\t\\t<Ratio FieldName=\"ANIAC\" Type=\"N\">132.80000</Ratio>\\r\\n\\t\\t</Group>\\r\\n\\t\\t<Group ID=\"Per share data\">\\r\\n\\t\\t\\t<Ratio FieldName=\"AEPSXCLXOR\" Type=\"N\">38.62000</Ratio>\\r\\n\\t\\t\\t<Ratio FieldName=\"AREVPS\" Type=\"N\">1177.70700</Ratio>\\r\\n\\t\\t\\t<Ratio FieldName=\"ABVPS\" Type=\"N\">279.15640</Ratio>\\r\\n\\t\\t\\t<Ratio FieldName=\"ACSHPS\" Type=\"N\">337.30910</Ratio>\\r\\n\\t\\t\\t<Ratio FieldName=\"ACFSHR\" Type=\"N\">60.19839</Ratio>\\r\\n\\t\\t\\t<Ratio FieldName=\"ADIVSHR\" Type=\"N\">21.16000</Ratio>\\r\\n\\t\\t</Group>\\r\\n\\t\\t<Group ID=\"Other Ratios\">\\r\\n\\t\\t\\t<Ratio FieldName=\"AGROSMGN\" Type=\"N\">7.91664</Ratio>\\r\\n\\t\\t\\t<Ratio FieldName=\"AROEPCT\" Type=\"N\">13.96058</Ratio>\\r\\n\\t\\t\\t<Ratio FieldName=\"APR2REV\" Type=\"N\">0.48383</Ratio>\\r\\n\\t\\t\\t<Ratio FieldName=\"APEEXCLXOR\" Type=\"N\">14.75919</Ratio>\\r\\n\\t\\t\\t<Ratio FieldName=\"APRICE2BK\" Type=\"N\">2.04187</Ratio>\\r\\n\\t\\t\\t<Ratio FieldName=\"Employees\" Type=\"N\">1744</Ratio>\\r\\n\\t\\t</Group>\\r\\n\\t</Ratios>\\r\\n\\t<ForecastData ConsensusType=\"\" CurFiscalYear=\"\" CurFiscalYearEndMonth=\"\" CurInterimEndCalYear=\"\" CurInterimEndMonth=\"\" EarningsBasis=\"\">\\r\\n\\t\\t<Ratio FieldName=\"ConsRecom\" Type=\"N\">\\r\\n\\t\\t\\t<Value PeriodType=\"CURR\">-99999.99000</Value>\\r\\n\\t\\t</Ratio>\\r\\n\\t\\t<Ratio FieldName=\"TargetPrice\" Type=\"N\">\\r\\n\\t\\t\\t<Value PeriodType=\"CURR\">-99999.99000</Value>\\r\\n\\t\\t</Ratio>\\r\\n\\t\\t<Ratio FieldName=\"ProjLTGrowthRate\" Type=\"N\">\\r\\n\\t\\t\\t<Value PeriodType=\"CURR\">-99999.99000</Value>\\r\\n\\t\\t</Ratio>\\r\\n\\t\\t<Ratio FieldName=\"ProjPE\" Type=\"N\">\\r\\n\\t\\t\\t<Value PeriodType=\"CURR\">-99999.99000</Value>\\r\\n\\t\\t</Ratio>\\r\\n\\t\\t<Ratio FieldName=\"ProjSales\" Type=\"N\">\\r\\n\\t\\t\\t<Value PeriodType=\"CURR\">-99999.99000</Value>\\r\\n\\t\\t</Ratio>\\r\\n\\t\\t<Ratio FieldName=\"ProjSalesQ\" Type=\"N\">\\r\\n\\t\\t\\t<Value PeriodType=\"CURR\">-99999.99000</Value>\\r\\n\\t\\t</Ratio>\\r\\n\\t\\t<Ratio FieldName=\"ProjEPS\" Type=\"N\">\\r\\n\\t\\t\\t<Value PeriodType=\"CURR\">-99999.99000</Value>\\r\\n\\t\\t</Ratio>\\r\\n\\t\\t<Ratio FieldName=\"ProjEPSQ\" Type=\"N\">\\r\\n\\t\\t\\t<Value PeriodType=\"CURR\">-99999.99000</Value>\\r\\n\\t\\t</Ratio>\\r\\n\\t\\t<Ratio FieldName=\"ProjProfit\" Type=\"N\">\\r\\n\\t\\t\\t<Value PeriodType=\"CURR\">-99999.99000</Value>\\r\\n\\t\\t</Ratio>\\r\\n\\t\\t<Ratio FieldName=\"ProjDPS\" Type=\"N\">\\r\\n\\t\\t\\t<Value PeriodType=\"CURR\">-99999.99000</Value>\\r\\n\\t\\t</Ratio>\\r\\n\\t</ForecastData>\\r\\n</ReportSnapshot>\\r\\n'"
      ]
     },
     "execution_count": 41,
     "metadata": {},
     "output_type": "execute_result"
    }
   ],
   "source": [
    "fundamentals"
   ]
  },
  {
   "cell_type": "code",
   "execution_count": null,
   "metadata": {},
   "outputs": [],
   "source": [
    "\t<Ratios PriceCurrency=\"HKD\" ReportingCurrency=\"CNY\" ExchangeRate=\"1.08917\" LatestAvailableDate=\"2023-12-31\">\\r\\n\\t\\t\n",
    "\t\t<Group ID=\"Price and Volume\">\\r\\n\\t\\t\\t\n",
    "\t\t\t<Ratio FieldName=\"NPRICE\" Type=\"N\">2.03000</Ratio>\\r\\n\\t\\t\\t\n",
    "\t\t\t<Ratio FieldName=\"NHIG\" Type=\"N\">2.82000</Ratio>\\r\\n\\t\\t\\t\n",
    "\t\t\t<Ratio FieldName=\"NLOW\" Type=\"N\">1.83000</Ratio>\\r\\n\\t\\t\\t\n",
    "\t\t\t<Ratio FieldName=\"PDATE\" Type=\"D\">2024-08-07T00:00:00</Ratio>\\r\\n\\t\\t\\t\n",
    "\t\t\t<Ratio FieldName=\"VOL10DAVG\" Type=\"N\">5.87615</Ratio>\\r\\n\\t\\t\\t\n",
    "\t\t\t<Ratio FieldName=\"EV\" Type=\"N\">-2984.73000</Ratio>\\r\\n\\t\\t\n",
    "\t\t</Group>\\r\\n\\t\\t\n",
    "\t\t<Group ID=\"Income Statement\">\\r\\n\\t\\t\\t\n",
    "\t\t\t<Ratio FieldName=\"MKTCAP\" Type=\"N\">16271.14000</Ratio>\\r\\n\\t\\t\\t\n",
    "\n",
    "\n",
    "\n",
    "\n"
   ]
  },
  {
   "cell_type": "code",
   "execution_count": 3,
   "metadata": {},
   "outputs": [
    {
     "name": "stdout",
     "output_type": "stream",
     "text": [
      "2B5 Stock Market Cap on FWB2: None\n",
      "2B5 Stock Market Cap on SMART: None\n",
      "2B5 Stock Market Cap on SWB2: None\n",
      "2B5 Stock Market Cap on GETTEX2: None\n"
     ]
    }
   ],
   "source": [
    "from ib_insync import *\n",
    "\n",
    "def get_market_cap(ib, contract):\n",
    "    fundamentals = ib.reqFundamentalData(contract, 'ReportSnapshot')\n",
    "    if fundamentals:\n",
    "        import xml.etree.ElementTree as ET\n",
    "        root = ET.fromstring(fundamentals)\n",
    "        market_cap = root.find('.//MarketCapitalization')\n",
    "        if market_cap is not None:\n",
    "            return float(market_cap.text)\n",
    "    return None\n",
    "\n",
    "# Connect to IB\n",
    "ib = IB()\n",
    "ib.connect('127.0.0.1', 4002, clientId=12)\n",
    "\n",
    "# List of exchanges\n",
    "exchanges = ['FWB2', 'SMART', 'SWB2', 'GETTEX2']\n",
    "\n",
    "for exchange in exchanges:\n",
    "    # Define the contract for each exchange\n",
    "    stock_contract = Stock(symbol='2B5', exchange=exchange, currency='EUR')\n",
    "    \n",
    "    # Ensure the contract details are fully qualified\n",
    "    qualified_contracts = ib.qualifyContracts(stock_contract)\n",
    "    \n",
    "    if qualified_contracts:\n",
    "        qualified_contract = qualified_contracts[0]\n",
    "        \n",
    "        # Get market cap\n",
    "        market_cap = get_market_cap(ib, qualified_contract)\n",
    "        \n",
    "        print(f\"2B5 Stock Market Cap on {exchange}: {market_cap}\")\n",
    "    else:\n",
    "        print(f\"Could not qualify contract for exchange: {exchange}\")\n",
    "\n",
    "ib.disconnect()"
   ]
  },
  {
   "cell_type": "code",
   "execution_count": null,
   "metadata": {},
   "outputs": [],
   "source": [
    "# AAPL"
   ]
  },
  {
   "cell_type": "code",
   "execution_count": null,
   "metadata": {},
   "outputs": [],
   "source": [
    "contract = Stock(symbol='AAPL', exchange='SMART', primaryExchange='NASDAQ', currency='USD', localSymbol='AAPL', tradingClass='NMS')\n",
    "\n",
    "ib.reqHeadTimeStamp(contract, whatToShow='TRADES', useRTH=True)"
   ]
  },
  {
   "cell_type": "code",
   "execution_count": null,
   "metadata": {},
   "outputs": [],
   "source": [
    "intc = Stock('AAPL', 'SMART', 'USD')\n",
    "ib.qualifyContracts(intc)"
   ]
  },
  {
   "cell_type": "code",
   "execution_count": null,
   "metadata": {},
   "outputs": [],
   "source": []
  },
  {
   "cell_type": "markdown",
   "metadata": {},
   "source": [
    "## INDEX"
   ]
  },
  {
   "cell_type": "code",
   "execution_count": null,
   "metadata": {},
   "outputs": [],
   "source": [
    "contract = Index('NDX', 'NASDAQ', 'USD')\n",
    "ib.qualifyContracts(contract)"
   ]
  },
  {
   "cell_type": "code",
   "execution_count": null,
   "metadata": {},
   "outputs": [],
   "source": []
  },
  {
   "cell_type": "code",
   "execution_count": null,
   "metadata": {},
   "outputs": [],
   "source": [
    "amd = Index('NDX', 'NASDAQ', 'USD')\n",
    "\n",
    "cds = ib.reqContractDetails(amd)\n",
    "\n",
    "len(cds)"
   ]
  },
  {
   "cell_type": "code",
   "execution_count": null,
   "metadata": {},
   "outputs": [],
   "source": [
    "contracts = [cd.contract for cd in cds]\n",
    "\n",
    "contracts[0]"
   ]
  },
  {
   "cell_type": "code",
   "execution_count": null,
   "metadata": {},
   "outputs": [],
   "source": [
    "util.df(contracts)"
   ]
  }
 ],
 "metadata": {
  "kernelspec": {
   "display_name": "insync_broker",
   "language": "python",
   "name": "python3"
  },
  "language_info": {
   "codemirror_mode": {
    "name": "ipython",
    "version": 3
   },
   "file_extension": ".py",
   "mimetype": "text/x-python",
   "name": "python",
   "nbconvert_exporter": "python",
   "pygments_lexer": "ipython3",
   "version": "3.11.9"
  }
 },
 "nbformat": 4,
 "nbformat_minor": 2
}

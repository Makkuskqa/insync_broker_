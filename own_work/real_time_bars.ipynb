{
 "cells": [
  {
   "cell_type": "code",
   "execution_count": null,
   "metadata": {},
   "outputs": [],
   "source": []
  },
  {
   "cell_type": "code",
   "execution_count": null,
   "metadata": {},
   "outputs": [],
   "source": []
  },
  {
   "cell_type": "code",
   "execution_count": 1,
   "metadata": {},
   "outputs": [
    {
     "data": {
      "text/plain": [
       "<IB connected to 127.0.0.1:4002 clientId=17>"
      ]
     },
     "execution_count": 1,
     "metadata": {},
     "output_type": "execute_result"
    },
    {
     "name": "stdout",
     "output_type": "stream",
     "text": [
      "RealTimeBar(time=datetime.datetime(2024, 7, 31, 21, 38, 55, tzinfo=datetime.timezone.utc), endTime=-1, open_=3226.525, high=3226.525, low=3225.975, close=3225.975, volume=-1.0, wap=-1.0, count=-1)\n",
      "RealTimeBar(time=datetime.datetime(2024, 7, 31, 21, 39, tzinfo=datetime.timezone.utc), endTime=-1, open_=3225.975, high=3225.975, low=3225.975, close=3225.975, volume=-1.0, wap=-1.0, count=-1)\n",
      "RealTimeBar(time=datetime.datetime(2024, 7, 31, 21, 39, 5, tzinfo=datetime.timezone.utc), endTime=-1, open_=3225.975, high=3225.975, low=3224.4, close=3224.825, volume=-1.0, wap=-1.0, count=-1)\n",
      "RealTimeBar(time=datetime.datetime(2024, 7, 31, 21, 39, 10, tzinfo=datetime.timezone.utc), endTime=-1, open_=3224.825, high=3224.825, low=3224.825, close=3224.825, volume=-1.0, wap=-1.0, count=-1)\n",
      "RealTimeBar(time=datetime.datetime(2024, 7, 31, 21, 39, 15, tzinfo=datetime.timezone.utc), endTime=-1, open_=3224.825, high=3224.825, low=3224.825, close=3224.825, volume=-1.0, wap=-1.0, count=-1)\n",
      "RealTimeBar(time=datetime.datetime(2024, 7, 31, 21, 39, 20, tzinfo=datetime.timezone.utc), endTime=-1, open_=3224.825, high=3224.825, low=3224.825, close=3224.825, volume=-1.0, wap=-1.0, count=-1)\n",
      "RealTimeBar(time=datetime.datetime(2024, 7, 31, 21, 39, 25, tzinfo=datetime.timezone.utc), endTime=-1, open_=3224.825, high=3225.225, low=3224.825, close=3225.225, volume=-1.0, wap=-1.0, count=-1)\n",
      "RealTimeBar(time=datetime.datetime(2024, 7, 31, 21, 39, 30, tzinfo=datetime.timezone.utc), endTime=-1, open_=3225.225, high=3225.225, low=3225.225, close=3225.225, volume=-1.0, wap=-1.0, count=-1)\n",
      "RealTimeBar(time=datetime.datetime(2024, 7, 31, 21, 39, 35, tzinfo=datetime.timezone.utc), endTime=-1, open_=3225.225, high=3226.275, low=3225.225, close=3226.225, volume=-1.0, wap=-1.0, count=-1)\n",
      "RealTimeBar(time=datetime.datetime(2024, 7, 31, 21, 39, 40, tzinfo=datetime.timezone.utc), endTime=-1, open_=3226.225, high=3226.225, low=3226.225, close=3226.225, volume=-1.0, wap=-1.0, count=-1)\n",
      "RealTimeBar(time=datetime.datetime(2024, 7, 31, 21, 39, 45, tzinfo=datetime.timezone.utc), endTime=-1, open_=3226.225, high=3226.225, low=3225.075, close=3225.075, volume=-1.0, wap=-1.0, count=-1)\n",
      "RealTimeBar(time=datetime.datetime(2024, 7, 31, 21, 39, 50, tzinfo=datetime.timezone.utc), endTime=-1, open_=3225.075, high=3225.075, low=3224.7, close=3224.725, volume=-1.0, wap=-1.0, count=-1)\n",
      "RealTimeBar(time=datetime.datetime(2024, 7, 31, 21, 39, 55, tzinfo=datetime.timezone.utc), endTime=-1, open_=3224.725, high=3224.725, low=3224.675, close=3224.675, volume=-1.0, wap=-1.0, count=-1)\n",
      "RealTimeBar(time=datetime.datetime(2024, 7, 31, 21, 40, tzinfo=datetime.timezone.utc), endTime=-1, open_=3224.675, high=3224.675, low=3224.275, close=3224.275, volume=-1.0, wap=-1.0, count=-1)\n"
     ]
    },
    {
     "name": "stderr",
     "output_type": "stream",
     "text": [
      "Peer closed connection.\n"
     ]
    }
   ],
   "source": [
    "from ib_insync import *\n",
    "util.startLoop()\n",
    "\n",
    "ib = IB()\n",
    "ib.connect('127.0.0.1', 4002, clientId=17)\n",
    "# util.logToConsole()"
   ]
  },
  {
   "cell_type": "code",
   "execution_count": 2,
   "metadata": {},
   "outputs": [
    {
     "data": {
      "text/plain": [
       "[Contract(secType='CRYPTO', conId=495759171, symbol='ETH', exchange='PAXOS', currency='USD', localSymbol='ETH.USD', tradingClass='ETH')]"
      ]
     },
     "execution_count": 2,
     "metadata": {},
     "output_type": "execute_result"
    }
   ],
   "source": [
    "contract = Contract( secType='CRYPTO', conId=495759171, symbol='ETH', exchange='PAXOS', currency='USD', localSymbol='ETH.USD', tradingClass='ETH')\n",
    "ib.qualifyContracts(contract)"
   ]
  },
  {
   "cell_type": "code",
   "execution_count": 3,
   "metadata": {},
   "outputs": [],
   "source": [
    "def onBarUpdate(bars, hasNewBar):\n",
    "    print(bars[-1])"
   ]
  },
  {
   "cell_type": "code",
   "execution_count": 4,
   "metadata": {},
   "outputs": [],
   "source": [
    "bars = ib.reqRealTimeBars(contract, 5, 'MIDPOINT', False)\n",
    "bars.updateEvent += onBarUpdate"
   ]
  },
  {
   "cell_type": "code",
   "execution_count": 11,
   "metadata": {},
   "outputs": [
    {
     "data": {
      "text/plain": [
       "[RealTimeBar(time=datetime.datetime(2024, 7, 31, 21, 38, 55, tzinfo=datetime.timezone.utc), endTime=-1, open_=3226.525, high=3226.525, low=3225.975, close=3225.975, volume=-1.0, wap=-1.0, count=-1),\n",
       " RealTimeBar(time=datetime.datetime(2024, 7, 31, 21, 39, tzinfo=datetime.timezone.utc), endTime=-1, open_=3225.975, high=3225.975, low=3225.975, close=3225.975, volume=-1.0, wap=-1.0, count=-1),\n",
       " RealTimeBar(time=datetime.datetime(2024, 7, 31, 21, 39, 5, tzinfo=datetime.timezone.utc), endTime=-1, open_=3225.975, high=3225.975, low=3224.4, close=3224.825, volume=-1.0, wap=-1.0, count=-1),\n",
       " RealTimeBar(time=datetime.datetime(2024, 7, 31, 21, 39, 10, tzinfo=datetime.timezone.utc), endTime=-1, open_=3224.825, high=3224.825, low=3224.825, close=3224.825, volume=-1.0, wap=-1.0, count=-1),\n",
       " RealTimeBar(time=datetime.datetime(2024, 7, 31, 21, 39, 15, tzinfo=datetime.timezone.utc), endTime=-1, open_=3224.825, high=3224.825, low=3224.825, close=3224.825, volume=-1.0, wap=-1.0, count=-1),\n",
       " RealTimeBar(time=datetime.datetime(2024, 7, 31, 21, 39, 20, tzinfo=datetime.timezone.utc), endTime=-1, open_=3224.825, high=3224.825, low=3224.825, close=3224.825, volume=-1.0, wap=-1.0, count=-1),\n",
       " RealTimeBar(time=datetime.datetime(2024, 7, 31, 21, 39, 25, tzinfo=datetime.timezone.utc), endTime=-1, open_=3224.825, high=3225.225, low=3224.825, close=3225.225, volume=-1.0, wap=-1.0, count=-1),\n",
       " RealTimeBar(time=datetime.datetime(2024, 7, 31, 21, 39, 30, tzinfo=datetime.timezone.utc), endTime=-1, open_=3225.225, high=3225.225, low=3225.225, close=3225.225, volume=-1.0, wap=-1.0, count=-1),\n",
       " RealTimeBar(time=datetime.datetime(2024, 7, 31, 21, 39, 35, tzinfo=datetime.timezone.utc), endTime=-1, open_=3225.225, high=3226.275, low=3225.225, close=3226.225, volume=-1.0, wap=-1.0, count=-1),\n",
       " RealTimeBar(time=datetime.datetime(2024, 7, 31, 21, 39, 40, tzinfo=datetime.timezone.utc), endTime=-1, open_=3226.225, high=3226.225, low=3226.225, close=3226.225, volume=-1.0, wap=-1.0, count=-1),\n",
       " RealTimeBar(time=datetime.datetime(2024, 7, 31, 21, 39, 45, tzinfo=datetime.timezone.utc), endTime=-1, open_=3226.225, high=3226.225, low=3225.075, close=3225.075, volume=-1.0, wap=-1.0, count=-1),\n",
       " RealTimeBar(time=datetime.datetime(2024, 7, 31, 21, 39, 50, tzinfo=datetime.timezone.utc), endTime=-1, open_=3225.075, high=3225.075, low=3224.7, close=3224.725, volume=-1.0, wap=-1.0, count=-1),\n",
       " RealTimeBar(time=datetime.datetime(2024, 7, 31, 21, 39, 55, tzinfo=datetime.timezone.utc), endTime=-1, open_=3224.725, high=3224.725, low=3224.675, close=3224.675, volume=-1.0, wap=-1.0, count=-1),\n",
       " RealTimeBar(time=datetime.datetime(2024, 7, 31, 21, 40, tzinfo=datetime.timezone.utc), endTime=-1, open_=3224.675, high=3224.675, low=3224.275, close=3224.275, volume=-1.0, wap=-1.0, count=-1)]"
      ]
     },
     "execution_count": 11,
     "metadata": {},
     "output_type": "execute_result"
    }
   ],
   "source": [
    "bars"
   ]
  },
  {
   "cell_type": "code",
   "execution_count": 8,
   "metadata": {},
   "outputs": [],
   "source": [
    "ib.sleep(30)\n",
    "ib.cancelRealTimeBars(bars)"
   ]
  },
  {
   "cell_type": "code",
   "execution_count": null,
   "metadata": {},
   "outputs": [],
   "source": [
    "ib.disconnect()"
   ]
  }
 ],
 "metadata": {
  "kernelspec": {
   "display_name": "insync_broker",
   "language": "python",
   "name": "python3"
  },
  "language_info": {
   "codemirror_mode": {
    "name": "ipython",
    "version": 3
   },
   "file_extension": ".py",
   "mimetype": "text/x-python",
   "name": "python",
   "nbconvert_exporter": "python",
   "pygments_lexer": "ipython3",
   "version": "3.11.9"
  }
 },
 "nbformat": 4,
 "nbformat_minor": 2
}

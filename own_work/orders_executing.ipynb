{
 "cells": [
  {
   "cell_type": "code",
   "execution_count": 1,
   "metadata": {},
   "outputs": [],
   "source": [
    "import time\n",
    "from datetime import datetime"
   ]
  },
  {
   "cell_type": "code",
   "execution_count": 61,
   "metadata": {},
   "outputs": [
    {
     "data": {
      "text/plain": [
       "<IB connected to 127.0.0.1:4002 clientId=12>"
      ]
     },
     "execution_count": 61,
     "metadata": {},
     "output_type": "execute_result"
    },
    {
     "name": "stderr",
     "output_type": "stream",
     "text": [
      "Peer closed connection.\n"
     ]
    }
   ],
   "source": [
    "from ib_insync import *\n",
    "util.startLoop()\n",
    "\n",
    "ib = IB()\n",
    "ib.connect('127.0.0.1', 4002, clientId=12)\n",
    "# util.logToConsole()"
   ]
  },
  {
   "cell_type": "code",
   "execution_count": 62,
   "metadata": {},
   "outputs": [
    {
     "data": {
      "text/plain": [
       "[Contract(secType='CRYPTO', conId=495759171, symbol='ETH', exchange='PAXOS', currency='USD', localSymbol='ETH.USD', tradingClass='ETH')]"
      ]
     },
     "execution_count": 62,
     "metadata": {},
     "output_type": "execute_result"
    }
   ],
   "source": [
    "contract = Contract( secType='CRYPTO', conId=495759171, symbol='ETH', exchange='PAXOS', currency='USD', localSymbol='ETH.USD', tradingClass='ETH')\n",
    "ib.qualifyContracts(contract)"
   ]
  },
  {
   "cell_type": "code",
   "execution_count": 7,
   "metadata": {},
   "outputs": [
    {
     "name": "stdout",
     "output_type": "stream",
     "text": [
      "Order execution time: 0.19 seconds\n"
     ]
    }
   ],
   "source": [
    "#%%time\n",
    "#order = MarketOrder(action='BUY',totalQuantity=0.01,  cashQty=1000 , tif='IOC', outsideRth=False, transmit=True) \n",
    "\n",
    "# order = MarketOrder(\n",
    "#   action='BUY',\n",
    "#   totalQuantity=0.5,\n",
    "#   cashQty=600,\n",
    "#   orderId=ib.client.getReqId(),\n",
    "#   tif='IOC',\n",
    "#   outsideRth=False,\n",
    "#   transmit=True,\n",
    "# )\n",
    "\n",
    "order = Order()\n",
    "order.action = 'BUY'\n",
    "order.orderType = \"LMT\"\n",
    "order.lmtPrice = 3305.8\n",
    "#order.cashQty = 1000\n",
    "order.totalQuantity = 0.5\n",
    "order.tif = 'IOC'\n",
    "\n",
    "\n",
    "start_time = time.time()\n",
    "\n",
    "trade = ib.placeOrder(contract, order)\n",
    "while not trade.isDone():\n",
    "    ib.waitOnUpdate()\n",
    "\n",
    "end_time = time.time()\n",
    "\n",
    "execution_time = end_time - start_time\n",
    "print(f\"Order execution time: {execution_time:.2f} seconds\")\n",
    "    "
   ]
  },
  {
   "cell_type": "code",
   "execution_count": 4,
   "metadata": {},
   "outputs": [],
   "source": [
    "\n",
    "\n",
    "def format_time(time_input):\n",
    "    if isinstance(time_input, datetime):\n",
    "        return time_input.strftime(\"%Y-%m-%d %H:%M:%S.%f\")[:-3]\n",
    "    elif isinstance(time_input, (int, float)):\n",
    "        # Convert float timestamp to datetime\n",
    "        dt = datetime.fromtimestamp(time_input)\n",
    "        return dt.strftime(\"%Y-%m-%d %H:%M:%S.%f\")[:-3]\n",
    "    return str(time_input)  # Return as string if it's neither datetime nor float\n",
    "\n",
    "\n",
    "\n",
    "# x = time.time()\n",
    "# a = format_time(x)\n",
    "# print(a)  # This will print the current time in \"YYYY-MM-DD HH:MM:SS.mmm\" format\n",
    "\n",
    "# # You can also use it with datetime objects\n",
    "# y = datetime.now()\n",
    "# b = format_time(y)\n",
    "# print(b)  # This will also print the current time in \"YYYY-MM-DD HH:MM:SS.mmm\" format"
   ]
  },
  {
   "cell_type": "code",
   "execution_count": 72,
   "metadata": {},
   "outputs": [
    {
     "ename": "ConnectionError",
     "evalue": "Socket disconnect",
     "output_type": "error",
     "traceback": [
      "\u001b[0;31m---------------------------------------------------------------------------\u001b[0m",
      "\u001b[0;31mCancelledError\u001b[0m                            Traceback (most recent call last)",
      "File \u001b[0;32m~/miniconda3/envs/insync_broker/lib/python3.11/site-packages/ib_insync/util.py:341\u001b[0m, in \u001b[0;36mrun\u001b[0;34m(timeout, *awaitables)\u001b[0m\n\u001b[1;32m    340\u001b[0m \u001b[38;5;28;01mtry\u001b[39;00m:\n\u001b[0;32m--> 341\u001b[0m     result \u001b[38;5;241m=\u001b[39m \u001b[43mloop\u001b[49m\u001b[38;5;241;43m.\u001b[39;49m\u001b[43mrun_until_complete\u001b[49m\u001b[43m(\u001b[49m\u001b[43mtask\u001b[49m\u001b[43m)\u001b[49m\n\u001b[1;32m    342\u001b[0m \u001b[38;5;28;01mexcept\u001b[39;00m asyncio\u001b[38;5;241m.\u001b[39mCancelledError \u001b[38;5;28;01mas\u001b[39;00m e:\n",
      "File \u001b[0;32m~/miniconda3/envs/insync_broker/lib/python3.11/site-packages/nest_asyncio.py:98\u001b[0m, in \u001b[0;36m_patch_loop.<locals>.run_until_complete\u001b[0;34m(self, future)\u001b[0m\n\u001b[1;32m     96\u001b[0m     \u001b[38;5;28;01mraise\u001b[39;00m \u001b[38;5;167;01mRuntimeError\u001b[39;00m(\n\u001b[1;32m     97\u001b[0m         \u001b[38;5;124m'\u001b[39m\u001b[38;5;124mEvent loop stopped before Future completed.\u001b[39m\u001b[38;5;124m'\u001b[39m)\n\u001b[0;32m---> 98\u001b[0m \u001b[38;5;28;01mreturn\u001b[39;00m \u001b[43mf\u001b[49m\u001b[38;5;241;43m.\u001b[39;49m\u001b[43mresult\u001b[49m\u001b[43m(\u001b[49m\u001b[43m)\u001b[49m\n",
      "File \u001b[0;32m~/miniconda3/envs/insync_broker/lib/python3.11/asyncio/futures.py:198\u001b[0m, in \u001b[0;36mFuture.result\u001b[0;34m(self)\u001b[0m\n\u001b[1;32m    197\u001b[0m     exc \u001b[38;5;241m=\u001b[39m \u001b[38;5;28mself\u001b[39m\u001b[38;5;241m.\u001b[39m_make_cancelled_error()\n\u001b[0;32m--> 198\u001b[0m     \u001b[38;5;28;01mraise\u001b[39;00m exc\n\u001b[1;32m    199\u001b[0m \u001b[38;5;28;01mif\u001b[39;00m \u001b[38;5;28mself\u001b[39m\u001b[38;5;241m.\u001b[39m_state \u001b[38;5;241m!=\u001b[39m _FINISHED:\n",
      "File \u001b[0;32m~/miniconda3/envs/insync_broker/lib/python3.11/asyncio/tasks.py:279\u001b[0m, in \u001b[0;36mTask.__step\u001b[0;34m(***failed resolving arguments***)\u001b[0m\n\u001b[1;32m    278\u001b[0m     \u001b[38;5;28;01melse\u001b[39;00m:\n\u001b[0;32m--> 279\u001b[0m         result \u001b[38;5;241m=\u001b[39m coro\u001b[38;5;241m.\u001b[39mthrow(exc)\n\u001b[1;32m    280\u001b[0m \u001b[38;5;28;01mexcept\u001b[39;00m \u001b[38;5;167;01mStopIteration\u001b[39;00m \u001b[38;5;28;01mas\u001b[39;00m exc:\n",
      "File \u001b[0;32m~/miniconda3/envs/insync_broker/lib/python3.11/asyncio/tasks.py:694\u001b[0m, in \u001b[0;36m_wrap_awaitable\u001b[0;34m(awaitable)\u001b[0m\n\u001b[1;32m    689\u001b[0m \u001b[38;5;250m\u001b[39m\u001b[38;5;124;03m\"\"\"Helper for asyncio.ensure_future().\u001b[39;00m\n\u001b[1;32m    690\u001b[0m \n\u001b[1;32m    691\u001b[0m \u001b[38;5;124;03mWraps awaitable (an object with __await__) into a coroutine\u001b[39;00m\n\u001b[1;32m    692\u001b[0m \u001b[38;5;124;03mthat will later be wrapped in a Task by ensure_future().\u001b[39;00m\n\u001b[1;32m    693\u001b[0m \u001b[38;5;124;03m\"\"\"\u001b[39;00m\n\u001b[0;32m--> 694\u001b[0m \u001b[38;5;28;01mreturn\u001b[39;00m (\u001b[38;5;28;01myield from\u001b[39;00m awaitable\u001b[38;5;241m.\u001b[39m\u001b[38;5;21m__await__\u001b[39m())\n",
      "File \u001b[0;32m~/miniconda3/envs/insync_broker/lib/python3.11/asyncio/futures.py:287\u001b[0m, in \u001b[0;36mFuture.__await__\u001b[0;34m(self)\u001b[0m\n\u001b[1;32m    286\u001b[0m     \u001b[38;5;28mself\u001b[39m\u001b[38;5;241m.\u001b[39m_asyncio_future_blocking \u001b[38;5;241m=\u001b[39m \u001b[38;5;28;01mTrue\u001b[39;00m\n\u001b[0;32m--> 287\u001b[0m     \u001b[38;5;28;01myield\u001b[39;00m \u001b[38;5;28mself\u001b[39m  \u001b[38;5;66;03m# This tells Task to wait for completion.\u001b[39;00m\n\u001b[1;32m    288\u001b[0m \u001b[38;5;28;01mif\u001b[39;00m \u001b[38;5;129;01mnot\u001b[39;00m \u001b[38;5;28mself\u001b[39m\u001b[38;5;241m.\u001b[39mdone():\n",
      "File \u001b[0;32m~/miniconda3/envs/insync_broker/lib/python3.11/asyncio/tasks.py:349\u001b[0m, in \u001b[0;36mTask.__wakeup\u001b[0;34m(self, future)\u001b[0m\n\u001b[1;32m    348\u001b[0m \u001b[38;5;28;01mtry\u001b[39;00m:\n\u001b[0;32m--> 349\u001b[0m     \u001b[43mfuture\u001b[49m\u001b[38;5;241;43m.\u001b[39;49m\u001b[43mresult\u001b[49m\u001b[43m(\u001b[49m\u001b[43m)\u001b[49m\n\u001b[1;32m    350\u001b[0m \u001b[38;5;28;01mexcept\u001b[39;00m \u001b[38;5;167;01mBaseException\u001b[39;00m \u001b[38;5;28;01mas\u001b[39;00m exc:\n\u001b[1;32m    351\u001b[0m     \u001b[38;5;66;03m# This may also be a cancellation.\u001b[39;00m\n",
      "File \u001b[0;32m~/miniconda3/envs/insync_broker/lib/python3.11/asyncio/futures.py:198\u001b[0m, in \u001b[0;36mFuture.result\u001b[0;34m(self)\u001b[0m\n\u001b[1;32m    197\u001b[0m     exc \u001b[38;5;241m=\u001b[39m \u001b[38;5;28mself\u001b[39m\u001b[38;5;241m.\u001b[39m_make_cancelled_error()\n\u001b[0;32m--> 198\u001b[0m     \u001b[38;5;28;01mraise\u001b[39;00m exc\n\u001b[1;32m    199\u001b[0m \u001b[38;5;28;01mif\u001b[39;00m \u001b[38;5;28mself\u001b[39m\u001b[38;5;241m.\u001b[39m_state \u001b[38;5;241m!=\u001b[39m _FINISHED:\n",
      "\u001b[0;31mCancelledError\u001b[0m: ",
      "\nDuring handling of the above exception, another exception occurred:\n",
      "\u001b[0;31mConnectionError\u001b[0m                           Traceback (most recent call last)",
      "Cell \u001b[0;32mIn[72], line 8\u001b[0m\n\u001b[1;32m      6\u001b[0m trade \u001b[38;5;241m=\u001b[39m ib\u001b[38;5;241m.\u001b[39mplaceOrder(contract, order1)\n\u001b[1;32m      7\u001b[0m \u001b[38;5;28;01mwhile\u001b[39;00m \u001b[38;5;129;01mnot\u001b[39;00m trade\u001b[38;5;241m.\u001b[39misDone():\n\u001b[0;32m----> 8\u001b[0m     \u001b[43mib\u001b[49m\u001b[38;5;241;43m.\u001b[39;49m\u001b[43mwaitOnUpdate\u001b[49m\u001b[43m(\u001b[49m\u001b[43m)\u001b[49m\n\u001b[1;32m     10\u001b[0m \u001b[38;5;28;01mif\u001b[39;00m trade\u001b[38;5;241m.\u001b[39misDone():\n\u001b[1;32m     11\u001b[0m     k \u001b[38;5;241m=\u001b[39m time\u001b[38;5;241m.\u001b[39mtime()\n",
      "File \u001b[0;32m~/miniconda3/envs/insync_broker/lib/python3.11/site-packages/ib_insync/ib.py:344\u001b[0m, in \u001b[0;36mIB.waitOnUpdate\u001b[0;34m(self, timeout)\u001b[0m\n\u001b[1;32m    342\u001b[0m         \u001b[38;5;28;01mreturn\u001b[39;00m \u001b[38;5;28;01mFalse\u001b[39;00m\n\u001b[1;32m    343\u001b[0m \u001b[38;5;28;01melse\u001b[39;00m:\n\u001b[0;32m--> 344\u001b[0m     \u001b[43mutil\u001b[49m\u001b[38;5;241;43m.\u001b[39;49m\u001b[43mrun\u001b[49m\u001b[43m(\u001b[49m\u001b[38;5;28;43mself\u001b[39;49m\u001b[38;5;241;43m.\u001b[39;49m\u001b[43mupdateEvent\u001b[49m\u001b[43m)\u001b[49m\n\u001b[1;32m    345\u001b[0m \u001b[38;5;28;01mreturn\u001b[39;00m \u001b[38;5;28;01mTrue\u001b[39;00m\n",
      "File \u001b[0;32m~/miniconda3/envs/insync_broker/lib/python3.11/site-packages/ib_insync/util.py:343\u001b[0m, in \u001b[0;36mrun\u001b[0;34m(timeout, *awaitables)\u001b[0m\n\u001b[1;32m    341\u001b[0m     result \u001b[38;5;241m=\u001b[39m loop\u001b[38;5;241m.\u001b[39mrun_until_complete(task)\n\u001b[1;32m    342\u001b[0m \u001b[38;5;28;01mexcept\u001b[39;00m asyncio\u001b[38;5;241m.\u001b[39mCancelledError \u001b[38;5;28;01mas\u001b[39;00m e:\n\u001b[0;32m--> 343\u001b[0m     \u001b[38;5;28;01mraise\u001b[39;00m globalErrorEvent\u001b[38;5;241m.\u001b[39mvalue() \u001b[38;5;129;01mor\u001b[39;00m e\n\u001b[1;32m    344\u001b[0m \u001b[38;5;28;01mfinally\u001b[39;00m:\n\u001b[1;32m    345\u001b[0m     globalErrorEvent\u001b[38;5;241m.\u001b[39mdisconnect(onError)\n",
      "\u001b[0;31mConnectionError\u001b[0m: Socket disconnect"
     ]
    }
   ],
   "source": [
    "#%%time\n",
    "x = time.time()\n",
    "start_time = format_time(x)\n",
    "\n",
    "order1 = Order(action='BUY', orderType='LMT', totalQuantity=0.1, lmtPrice=3305.8, tif='IOC',  transmit=True)\n",
    "trade = ib.placeOrder(contract, order1)\n",
    "while not trade.isDone():\n",
    "    ib.waitOnUpdate()\n",
    "\n",
    "if trade.isDone():\n",
    "    k = time.time()\n",
    "    end_time = format_time(k)"
   ]
  },
  {
   "cell_type": "code",
   "execution_count": 42,
   "metadata": {},
   "outputs": [],
   "source": [
    "#%%time\n",
    "x = time.time()\n",
    "start_time = format_time(x)\n",
    "\n",
    "order1 = Order(action='BUY', orderType='MKT', cashQty=100)\n",
    "trade = ib.placeOrder(contract, order1)\n",
    "while not trade.isDone():\n",
    "    ib.waitOnUpdate()\n",
    "\n",
    "if trade.isDone():\n",
    "    k = time.time()\n",
    "    end_time = format_time(k)"
   ]
  },
  {
   "cell_type": "code",
   "execution_count": 27,
   "metadata": {},
   "outputs": [],
   "source": [
    "#%%time\n",
    "x = time.time()\n",
    "start_time = format_time(x)\n",
    "\n",
    "order1 = Order(action='BUY', orderType='STP', auxPrice = 3000.0, totalQuantity=0.1) #cashQty=100\n",
    "trade = ib.placeOrder(contract, order1)\n",
    "while not trade.isDone():\n",
    "    ib.waitOnUpdate()\n",
    "\n",
    "if trade.isDone():\n",
    "    k = time.time()\n",
    "    end_time = format_time(k)"
   ]
  },
  {
   "cell_type": "code",
   "execution_count": 64,
   "metadata": {},
   "outputs": [
    {
     "data": {
      "text/plain": [
       "datetime.datetime(2024, 8, 2, 20, 16, 58, tzinfo=datetime.timezone.utc)"
      ]
     },
     "execution_count": 64,
     "metadata": {},
     "output_type": "execute_result"
    }
   ],
   "source": [
    "ib.reqCurrentTime()"
   ]
  },
  {
   "cell_type": "code",
   "execution_count": 51,
   "metadata": {},
   "outputs": [
    {
     "name": "stdout",
     "output_type": "stream",
     "text": [
      "2024-08-02 19:56:38.000000\n"
     ]
    }
   ],
   "source": [
    "from datetime import datetime, timezone\n",
    "\n",
    "def format_ib_time(ib_time):\n",
    "    # Check if ib_time is already a datetime object\n",
    "    if isinstance(ib_time, datetime):\n",
    "        dt = ib_time\n",
    "    else:\n",
    "        # Convert IB time to datetime object\n",
    "        dt = datetime.fromtimestamp(ib_time, tz=timezone.utc)\n",
    "    \n",
    "    # Format the datetime as a string with milliseconds\n",
    "    formatted_time = dt.strftime(\"%Y-%m-%d %H:%M:%S.%f\")\n",
    "    \n",
    "    return formatted_time\n",
    "\n",
    "# Usage example\n",
    "ib_time = ib.reqCurrentTime()\n",
    "human_readable_time = format_ib_time(ib_time)\n",
    "print(human_readable_time)"
   ]
  },
  {
   "cell_type": "code",
   "execution_count": 67,
   "metadata": {},
   "outputs": [
    {
     "data": {
      "text/plain": [
       "[TradeLogEntry(time=datetime.datetime(2024, 8, 2, 20, 16, 10, 488498, tzinfo=datetime.timezone.utc), status='PendingSubmit', message='', errorCode=0)]"
      ]
     },
     "execution_count": 67,
     "metadata": {},
     "output_type": "execute_result"
    }
   ],
   "source": [
    "trade.log"
   ]
  },
  {
   "cell_type": "code",
   "execution_count": 68,
   "metadata": {},
   "outputs": [
    {
     "data": {
      "text/plain": [
       "Trade(contract=Contract(secType='CRYPTO', conId=495759171, symbol='ETH', exchange='PAXOS', currency='USD', localSymbol='ETH.USD', tradingClass='ETH'), order=Order(orderId=4, clientId=12, action='BUY', totalQuantity=0.1, orderType='LMT', lmtPrice=3305.8, tif='IOC'), orderStatus=OrderStatus(orderId=4, status='PendingSubmit', filled=0.0, remaining=0.0, avgFillPrice=0.0, permId=0, parentId=0, lastFillPrice=0.0, clientId=0, whyHeld='', mktCapPrice=0.0), fills=[], log=[TradeLogEntry(time=datetime.datetime(2024, 8, 2, 20, 16, 10, 488498, tzinfo=datetime.timezone.utc), status='PendingSubmit', message='', errorCode=0)], advancedError='')"
      ]
     },
     "execution_count": 68,
     "metadata": {},
     "output_type": "execute_result"
    }
   ],
   "source": [
    "#util.df(ib.trades())\n",
    "ib.trades()[-1]"
   ]
  },
  {
   "cell_type": "code",
   "execution_count": 39,
   "metadata": {},
   "outputs": [
    {
     "data": {
      "text/plain": [
       "Trade(contract=Crypto(conId=495759171, symbol='ETH', right='?', exchange='PAXOS', currency='USD', localSymbol='ETH.USD', tradingClass='ETH'), order=Order(permId=1586714964, action='BUY', orderType='LMT', lmtPrice=3305.8, auxPrice=0.0, tif='IOC', ocaType=3, displaySize=2147483647, rule80A='0', openClose='', volatilityType=0, deltaNeutralOrderType='None', referencePriceType=0, account='DU9439365', clearingIntent='IB', cashQty=0.0, dontUseAutoPriceForHedge=True, filledQuantity=0.1, refFuturesConId=2147483647, shareholder='Not an insider or substantial shareholder'), orderStatus=OrderStatus(orderId=0, status='Filled', filled=0.0, remaining=0.0, avgFillPrice=0.0, permId=0, parentId=0, lastFillPrice=0.0, clientId=0, whyHeld='', mktCapPrice=0.0), fills=[Fill(contract=Crypto(conId=495759171, symbol='ETH', right='?', exchange='PAXOS', currency='USD', localSymbol='ETH.USD', tradingClass='ETH'), execution=Execution(execId='00012de3.66a5d218.01.01', time=datetime.datetime(2024, 8, 2, 9, 35, 42, tzinfo=datetime.timezone.utc), acctNumber='DU9439365', exchange='PAXOS', side='BOT', shares=0.1, price=3148.0, permId=1586714964, clientId=13, orderId=48, liquidation=0, cumQty=0.1, avgPrice=3148.0, orderRef='', evRule='', evMultiplier=0.0, modelCode='', lastLiquidity=1), commissionReport=CommissionReport(execId='00012de3.66a5d218.01.01', commission=1.75, currency='USD', realizedPNL=0.0, yield_=0.0, yieldRedemptionDate=0), time=datetime.datetime(2024, 8, 2, 9, 35, 42, tzinfo=datetime.timezone.utc))], log=[TradeLogEntry(time=datetime.datetime(2024, 8, 2, 9, 35, 42, tzinfo=datetime.timezone.utc), status='Filled', message='Fill 0.1@3148.0', errorCode=0)], advancedError='')"
      ]
     },
     "execution_count": 39,
     "metadata": {},
     "output_type": "execute_result"
    }
   ],
   "source": [
    "ib.trades()[-7]"
   ]
  },
  {
   "cell_type": "code",
   "execution_count": 69,
   "metadata": {},
   "outputs": [
    {
     "data": {
      "text/plain": [
       "[Position(account='DU9439365', contract=Stock(conId=265598, symbol='AAPL', exchange='NASDAQ', currency='USD', localSymbol='AAPL', tradingClass='NMS'), position=-100.0, avgCost=209.214017),\n",
       " Position(account='DU9439365', contract=Crypto(conId=495759171, symbol='ETH', currency='USD', localSymbol='ETH.USD', tradingClass='ETH'), position=3.51, avgCost=3173.4175413)]"
      ]
     },
     "execution_count": 69,
     "metadata": {},
     "output_type": "execute_result"
    }
   ],
   "source": [
    "ib.positions()"
   ]
  },
  {
   "cell_type": "code",
   "execution_count": null,
   "metadata": {},
   "outputs": [],
   "source": []
  },
  {
   "cell_type": "code",
   "execution_count": 23,
   "metadata": {},
   "outputs": [],
   "source": [
    "df = util.df(ib.trades())"
   ]
  },
  {
   "cell_type": "code",
   "execution_count": 24,
   "metadata": {},
   "outputs": [
    {
     "data": {
      "text/html": [
       "<div>\n",
       "<style scoped>\n",
       "    .dataframe tbody tr th:only-of-type {\n",
       "        vertical-align: middle;\n",
       "    }\n",
       "\n",
       "    .dataframe tbody tr th {\n",
       "        vertical-align: top;\n",
       "    }\n",
       "\n",
       "    .dataframe thead th {\n",
       "        text-align: right;\n",
       "    }\n",
       "</style>\n",
       "<table border=\"1\" class=\"dataframe\">\n",
       "  <thead>\n",
       "    <tr style=\"text-align: right;\">\n",
       "      <th></th>\n",
       "      <th>contract</th>\n",
       "      <th>order</th>\n",
       "      <th>orderStatus</th>\n",
       "      <th>fills</th>\n",
       "      <th>log</th>\n",
       "      <th>advancedError</th>\n",
       "    </tr>\n",
       "  </thead>\n",
       "  <tbody>\n",
       "    <tr>\n",
       "      <th>0</th>\n",
       "      <td>Stock(conId=313490784, symbol='HEAR', right='?...</td>\n",
       "      <td>Order(permId=753564587, action='SELL', orderTy...</td>\n",
       "      <td>OrderStatus(orderId=0, status='Filled', filled...</td>\n",
       "      <td>[(Stock(conId=313490784, symbol='HEAR', right=...</td>\n",
       "      <td>[TradeLogEntry(time=datetime.datetime(2024, 8,...</td>\n",
       "      <td></td>\n",
       "    </tr>\n",
       "    <tr>\n",
       "      <th>1</th>\n",
       "      <td>Contract(secType='CRYPTO', conId=495759171, sy...</td>\n",
       "      <td>Order(orderId=40, clientId=13, permId=12580220...</td>\n",
       "      <td>OrderStatus(orderId=40, status='Filled', fille...</td>\n",
       "      <td>[(Contract(secType='CRYPTO', conId=495759171, ...</td>\n",
       "      <td>[TradeLogEntry(time=datetime.datetime(2024, 8,...</td>\n",
       "      <td></td>\n",
       "    </tr>\n",
       "    <tr>\n",
       "      <th>2</th>\n",
       "      <td>Contract(secType='CRYPTO', conId=495759171, sy...</td>\n",
       "      <td>Order(orderId=41, clientId=13, permId=12580220...</td>\n",
       "      <td>OrderStatus(orderId=41, status='Filled', fille...</td>\n",
       "      <td>[(Contract(secType='CRYPTO', conId=495759171, ...</td>\n",
       "      <td>[TradeLogEntry(time=datetime.datetime(2024, 8,...</td>\n",
       "      <td></td>\n",
       "    </tr>\n",
       "    <tr>\n",
       "      <th>3</th>\n",
       "      <td>Contract(secType='CRYPTO', conId=495759171, sy...</td>\n",
       "      <td>Order(orderId=42, clientId=13, permId=12580220...</td>\n",
       "      <td>OrderStatus(orderId=42, status='Filled', fille...</td>\n",
       "      <td>[(Contract(secType='CRYPTO', conId=495759171, ...</td>\n",
       "      <td>[TradeLogEntry(time=datetime.datetime(2024, 8,...</td>\n",
       "      <td></td>\n",
       "    </tr>\n",
       "    <tr>\n",
       "      <th>4</th>\n",
       "      <td>Contract(secType='CRYPTO', conId=495759171, sy...</td>\n",
       "      <td>Order(orderId=43, clientId=13, permId=12580220...</td>\n",
       "      <td>OrderStatus(orderId=43, status='Filled', fille...</td>\n",
       "      <td>[(Contract(secType='CRYPTO', conId=495759171, ...</td>\n",
       "      <td>[TradeLogEntry(time=datetime.datetime(2024, 8,...</td>\n",
       "      <td></td>\n",
       "    </tr>\n",
       "  </tbody>\n",
       "</table>\n",
       "</div>"
      ],
      "text/plain": [
       "                                            contract  \\\n",
       "0  Stock(conId=313490784, symbol='HEAR', right='?...   \n",
       "1  Contract(secType='CRYPTO', conId=495759171, sy...   \n",
       "2  Contract(secType='CRYPTO', conId=495759171, sy...   \n",
       "3  Contract(secType='CRYPTO', conId=495759171, sy...   \n",
       "4  Contract(secType='CRYPTO', conId=495759171, sy...   \n",
       "\n",
       "                                               order  \\\n",
       "0  Order(permId=753564587, action='SELL', orderTy...   \n",
       "1  Order(orderId=40, clientId=13, permId=12580220...   \n",
       "2  Order(orderId=41, clientId=13, permId=12580220...   \n",
       "3  Order(orderId=42, clientId=13, permId=12580220...   \n",
       "4  Order(orderId=43, clientId=13, permId=12580220...   \n",
       "\n",
       "                                         orderStatus  \\\n",
       "0  OrderStatus(orderId=0, status='Filled', filled...   \n",
       "1  OrderStatus(orderId=40, status='Filled', fille...   \n",
       "2  OrderStatus(orderId=41, status='Filled', fille...   \n",
       "3  OrderStatus(orderId=42, status='Filled', fille...   \n",
       "4  OrderStatus(orderId=43, status='Filled', fille...   \n",
       "\n",
       "                                               fills  \\\n",
       "0  [(Stock(conId=313490784, symbol='HEAR', right=...   \n",
       "1  [(Contract(secType='CRYPTO', conId=495759171, ...   \n",
       "2  [(Contract(secType='CRYPTO', conId=495759171, ...   \n",
       "3  [(Contract(secType='CRYPTO', conId=495759171, ...   \n",
       "4  [(Contract(secType='CRYPTO', conId=495759171, ...   \n",
       "\n",
       "                                                 log advancedError  \n",
       "0  [TradeLogEntry(time=datetime.datetime(2024, 8,...                \n",
       "1  [TradeLogEntry(time=datetime.datetime(2024, 8,...                \n",
       "2  [TradeLogEntry(time=datetime.datetime(2024, 8,...                \n",
       "3  [TradeLogEntry(time=datetime.datetime(2024, 8,...                \n",
       "4  [TradeLogEntry(time=datetime.datetime(2024, 8,...                "
      ]
     },
     "execution_count": 24,
     "metadata": {},
     "output_type": "execute_result"
    }
   ],
   "source": [
    "df"
   ]
  },
  {
   "cell_type": "code",
   "execution_count": 70,
   "metadata": {},
   "outputs": [
    {
     "data": {
      "text/plain": [
       "[Trade(contract=Crypto(conId=495759171, symbol='ETH', right='?', exchange='PAXOS', currency='USD', localSymbol='ETH.USD', tradingClass='ETH'), order=Order(permId=1586714967, action='BUY', orderType='LMT', lmtPrice=3305.8, auxPrice=0.0, tif='IOC', ocaType=3, displaySize=2147483647, rule80A='0', openClose='', volatilityType=0, deltaNeutralOrderType='None', referencePriceType=0, account='DU9439365', clearingIntent='IB', cashQty=0.0, dontUseAutoPriceForHedge=True, filledQuantity=0.1, refFuturesConId=2147483647, shareholder='Not an insider or substantial shareholder'), orderStatus=OrderStatus(orderId=0, status='Filled', filled=0.0, remaining=0.0, avgFillPrice=0.0, permId=0, parentId=0, lastFillPrice=0.0, clientId=0, whyHeld='', mktCapPrice=0.0), fills=[Fill(contract=Crypto(conId=495759171, symbol='ETH', right='?', exchange='PAXOS', currency='USD', localSymbol='ETH.USD', tradingClass='ETH'), execution=Execution(execId='00012de3.66a5d21b.01.01', time=datetime.datetime(2024, 8, 2, 10, 2, 10, tzinfo=datetime.timezone.utc), acctNumber='DU9439365', exchange='PAXOS', side='BOT', shares=0.1, price=3151.95, permId=1586714967, clientId=13, orderId=51, liquidation=0, cumQty=0.1, avgPrice=3151.95, orderRef='', evRule='', evMultiplier=0.0, modelCode='', lastLiquidity=1), commissionReport=CommissionReport(execId='00012de3.66a5d21b.01.01', commission=1.75, currency='USD', realizedPNL=0.0, yield_=0.0, yieldRedemptionDate=0), time=datetime.datetime(2024, 8, 2, 10, 2, 10, tzinfo=datetime.timezone.utc))], log=[TradeLogEntry(time=datetime.datetime(2024, 8, 2, 10, 2, 10, tzinfo=datetime.timezone.utc), status='Filled', message='Fill 0.1@3151.95', errorCode=0)], advancedError=''),\n",
       " Trade(contract=Crypto(conId=495759171, symbol='ETH', right='?', exchange='PAXOS', currency='USD', localSymbol='ETH.USD', tradingClass='ETH'), order=Order(permId=1586714966, action='BUY', orderType='LMT', lmtPrice=3305.8, auxPrice=0.0, tif='IOC', ocaType=3, displaySize=2147483647, rule80A='0', openClose='', volatilityType=0, deltaNeutralOrderType='None', referencePriceType=0, account='DU9439365', clearingIntent='IB', cashQty=0.0, dontUseAutoPriceForHedge=True, filledQuantity=0.1, refFuturesConId=2147483647, shareholder='Not an insider or substantial shareholder'), orderStatus=OrderStatus(orderId=0, status='Filled', filled=0.0, remaining=0.0, avgFillPrice=0.0, permId=0, parentId=0, lastFillPrice=0.0, clientId=0, whyHeld='', mktCapPrice=0.0), fills=[Fill(contract=Crypto(conId=495759171, symbol='ETH', right='?', exchange='PAXOS', currency='USD', localSymbol='ETH.USD', tradingClass='ETH'), execution=Execution(execId='00012de3.66a5d21a.01.01', time=datetime.datetime(2024, 8, 2, 10, 2, 3, tzinfo=datetime.timezone.utc), acctNumber='DU9439365', exchange='PAXOS', side='BOT', shares=0.1, price=3151.95, permId=1586714966, clientId=13, orderId=50, liquidation=0, cumQty=0.1, avgPrice=3151.95, orderRef='', evRule='', evMultiplier=0.0, modelCode='', lastLiquidity=1), commissionReport=CommissionReport(execId='00012de3.66a5d21a.01.01', commission=1.75, currency='USD', realizedPNL=0.0, yield_=0.0, yieldRedemptionDate=0), time=datetime.datetime(2024, 8, 2, 10, 2, 3, tzinfo=datetime.timezone.utc))], log=[TradeLogEntry(time=datetime.datetime(2024, 8, 2, 10, 2, 3, tzinfo=datetime.timezone.utc), status='Filled', message='Fill 0.1@3151.95', errorCode=0)], advancedError=''),\n",
       " Trade(contract=Crypto(conId=495759171, symbol='ETH', right='?', exchange='PAXOS', currency='USD', localSymbol='ETH.USD', tradingClass='ETH'), order=Order(permId=1586714965, action='BUY', orderType='LMT', lmtPrice=3305.8, auxPrice=0.0, tif='IOC', ocaType=3, displaySize=2147483647, rule80A='0', openClose='', volatilityType=0, deltaNeutralOrderType='None', referencePriceType=0, account='DU9439365', clearingIntent='IB', cashQty=0.0, dontUseAutoPriceForHedge=True, filledQuantity=0.1, refFuturesConId=2147483647, shareholder='Not an insider or substantial shareholder'), orderStatus=OrderStatus(orderId=0, status='Filled', filled=0.0, remaining=0.0, avgFillPrice=0.0, permId=0, parentId=0, lastFillPrice=0.0, clientId=0, whyHeld='', mktCapPrice=0.0), fills=[Fill(contract=Crypto(conId=495759171, symbol='ETH', right='?', exchange='PAXOS', currency='USD', localSymbol='ETH.USD', tradingClass='ETH'), execution=Execution(execId='00012de3.66a5d219.01.01', time=datetime.datetime(2024, 8, 2, 9, 58, 6, tzinfo=datetime.timezone.utc), acctNumber='DU9439365', exchange='PAXOS', side='BOT', shares=0.1, price=3150.25, permId=1586714965, clientId=13, orderId=49, liquidation=0, cumQty=0.1, avgPrice=3150.25, orderRef='', evRule='', evMultiplier=0.0, modelCode='', lastLiquidity=1), commissionReport=CommissionReport(execId='00012de3.66a5d219.01.01', commission=1.75, currency='USD', realizedPNL=0.0, yield_=0.0, yieldRedemptionDate=0), time=datetime.datetime(2024, 8, 2, 9, 58, 6, tzinfo=datetime.timezone.utc))], log=[TradeLogEntry(time=datetime.datetime(2024, 8, 2, 9, 58, 6, tzinfo=datetime.timezone.utc), status='Filled', message='Fill 0.1@3150.25', errorCode=0)], advancedError=''),\n",
       " Trade(contract=Crypto(conId=495759171, symbol='ETH', right='?', exchange='PAXOS', currency='USD', localSymbol='ETH.USD', tradingClass='ETH'), order=Order(permId=1586714964, action='BUY', orderType='LMT', lmtPrice=3305.8, auxPrice=0.0, tif='IOC', ocaType=3, displaySize=2147483647, rule80A='0', openClose='', volatilityType=0, deltaNeutralOrderType='None', referencePriceType=0, account='DU9439365', clearingIntent='IB', cashQty=0.0, dontUseAutoPriceForHedge=True, filledQuantity=0.1, refFuturesConId=2147483647, shareholder='Not an insider or substantial shareholder'), orderStatus=OrderStatus(orderId=0, status='Filled', filled=0.0, remaining=0.0, avgFillPrice=0.0, permId=0, parentId=0, lastFillPrice=0.0, clientId=0, whyHeld='', mktCapPrice=0.0), fills=[Fill(contract=Crypto(conId=495759171, symbol='ETH', right='?', exchange='PAXOS', currency='USD', localSymbol='ETH.USD', tradingClass='ETH'), execution=Execution(execId='00012de3.66a5d218.01.01', time=datetime.datetime(2024, 8, 2, 9, 35, 42, tzinfo=datetime.timezone.utc), acctNumber='DU9439365', exchange='PAXOS', side='BOT', shares=0.1, price=3148.0, permId=1586714964, clientId=13, orderId=48, liquidation=0, cumQty=0.1, avgPrice=3148.0, orderRef='', evRule='', evMultiplier=0.0, modelCode='', lastLiquidity=1), commissionReport=CommissionReport(execId='00012de3.66a5d218.01.01', commission=1.75, currency='USD', realizedPNL=0.0, yield_=0.0, yieldRedemptionDate=0), time=datetime.datetime(2024, 8, 2, 9, 35, 42, tzinfo=datetime.timezone.utc))], log=[TradeLogEntry(time=datetime.datetime(2024, 8, 2, 9, 35, 42, tzinfo=datetime.timezone.utc), status='Filled', message='Fill 0.1@3148.0', errorCode=0)], advancedError=''),\n",
       " Trade(contract=Contract(secType='CRYPTO', conId=495759171, symbol='ETH', exchange='PAXOS', currency='USD', localSymbol='ETH.USD', tradingClass='ETH'), order=Order(orderId=4, clientId=12, action='BUY', totalQuantity=0.1, orderType='LMT', lmtPrice=3305.8, tif='IOC'), orderStatus=OrderStatus(orderId=4, status='PendingSubmit', filled=0.0, remaining=0.0, avgFillPrice=0.0, permId=0, parentId=0, lastFillPrice=0.0, clientId=0, whyHeld='', mktCapPrice=0.0), fills=[], log=[TradeLogEntry(time=datetime.datetime(2024, 8, 2, 20, 16, 10, 488498, tzinfo=datetime.timezone.utc), status='PendingSubmit', message='', errorCode=0)], advancedError='')]"
      ]
     },
     "execution_count": 70,
     "metadata": {},
     "output_type": "execute_result"
    }
   ],
   "source": [
    "ib.trades()"
   ]
  },
  {
   "cell_type": "code",
   "execution_count": null,
   "metadata": {},
   "outputs": [],
   "source": []
  },
  {
   "cell_type": "code",
   "execution_count": 71,
   "metadata": {},
   "outputs": [],
   "source": [
    "import pandas as pd\n",
    "from datetime import datetime\n",
    "\n",
    "class LimitOrderTracker:\n",
    "    def __init__(self):\n",
    "        self.df = pd.DataFrame(columns=[\n",
    "            'Symbol', 'Exchange', 'Currency', 'SecType', 'ConId', 'LocalSymbol', 'TradingClass',\n",
    "            'Action', 'Quantity', 'OrderType', 'LimitPrice', 'TimeInForce',\n",
    "            'OrderId', 'ClientId', 'PermId', 'AuxPrice',\n",
    "            'Status', 'Filled', 'Remaining', 'AvgFillPrice', 'LastFillPrice',\n",
    "            'ParentId', 'WhyHeld', 'MktCapPrice',\n",
    "            'FillTime', 'FillQuantity', 'FillPrice', 'Commission',\n",
    "            'ExecId', 'AcctNumber', 'CumQty', 'OrderRef', 'EvRule', 'EvMultiplier', 'ModelCode', 'LastLiquidity',\n",
    "            'RealizedPNL', 'Yield', 'YieldRedemptionDate',\n",
    "            'InitOrderTime', 'ExecutionTime',\n",
    "        ])\n",
    "\n",
    "    def format_time(self, time_input):\n",
    "        if isinstance(time_input, datetime):\n",
    "            return time_input.strftime(\"%Y-%m-%d %H:%M:%S.%f\")[:-3]\n",
    "        elif isinstance(time_input, (int, float)):\n",
    "            dt = datetime.fromtimestamp(time_input)\n",
    "            return dt.strftime(\"%Y-%m-%d %H:%M:%S.%f\")[:-3]\n",
    "        return str(time_input)\n",
    "\n",
    "    def add_trade(self, trade, init_order_time, execution_time):\n",
    "        trade_info = {\n",
    "            'Symbol': trade.contract.symbol,\n",
    "            'Exchange': trade.contract.exchange,\n",
    "            'Currency': trade.contract.currency,\n",
    "            'SecType': trade.contract.secType,\n",
    "            'ConId': trade.contract.conId,\n",
    "            'LocalSymbol': trade.contract.localSymbol,\n",
    "            'TradingClass': trade.contract.tradingClass,\n",
    "            'Action': trade.order.action,\n",
    "            'Quantity': trade.order.totalQuantity,\n",
    "            'OrderType': trade.order.orderType,\n",
    "            'LimitPrice': trade.order.lmtPrice,\n",
    "            'TimeInForce': trade.order.tif,\n",
    "            'OrderId': trade.order.orderId,\n",
    "            'ClientId': trade.order.clientId,\n",
    "            'PermId': trade.order.permId,\n",
    "            'AuxPrice': trade.order.auxPrice,\n",
    "            'Status': trade.orderStatus.status,\n",
    "            'Filled': trade.orderStatus.filled,\n",
    "            'Remaining': trade.orderStatus.remaining,\n",
    "            'AvgFillPrice': trade.orderStatus.avgFillPrice,\n",
    "            'LastFillPrice': trade.orderStatus.lastFillPrice,\n",
    "            'ParentId': trade.orderStatus.parentId,\n",
    "            'WhyHeld': trade.orderStatus.whyHeld,\n",
    "            'MktCapPrice': trade.orderStatus.mktCapPrice,\n",
    "            'InitOrderTime': execution_time if isinstance(execution_time, str) else f\"{execution_time:.3f}\",\n",
    "            'ExecutionTime': execution_time if isinstance(execution_time, str) else f\"{execution_time:.3f}\"\n",
    "\n",
    "        }\n",
    "\n",
    "        new_rows = []\n",
    "        for fill in trade.fills:\n",
    "            fill_info = trade_info.copy()\n",
    "            fill_info.update({\n",
    "                'FillTime': self.format_time(fill.time),\n",
    "                'FillQuantity': fill.execution.shares,\n",
    "                'FillPrice': fill.execution.price,\n",
    "                'Commission': fill.commissionReport.commission,\n",
    "                'ExecId': fill.execution.execId,\n",
    "                'AcctNumber': fill.execution.acctNumber,\n",
    "                'CumQty': fill.execution.cumQty,\n",
    "                'OrderRef': fill.execution.orderRef,\n",
    "                'EvRule': fill.execution.evRule,\n",
    "                'EvMultiplier': fill.execution.evMultiplier,\n",
    "                'ModelCode': fill.execution.modelCode,\n",
    "                'LastLiquidity': fill.execution.lastLiquidity,\n",
    "                'RealizedPNL': fill.commissionReport.realizedPNL,\n",
    "                'Yield': fill.commissionReport.yield_,\n",
    "                'YieldRedemptionDate': fill.commissionReport.yieldRedemptionDate\n",
    "            })\n",
    "            new_rows.append(fill_info)\n",
    "\n",
    "        new_df = pd.DataFrame(new_rows)\n",
    "        self.df = pd.concat([self.df, new_df], ignore_index=True)\n",
    "\n",
    "    def save_to_csv(self):\n",
    "        filename = f\"trade_log_{datetime.now().strftime('%Y%m%d_%H%M%S')}.csv\"\n",
    "        self.df.to_csv(filename, index=False)\n",
    "        print(f\"Trade log saved to {filename}\")\n",
    "\n",
    "# Usage:\n",
    "tracker = TradeTracker()\n",
    "\n",
    "# To save the current state of the DataFrame:\n",
    "#tracker.save_to_csv()"
   ]
  },
  {
   "cell_type": "code",
   "execution_count": 55,
   "metadata": {},
   "outputs": [],
   "source": [
    "# After each trade execution:\n",
    "tracker.add_trade(ib.trades()[-1], end_time , start_time)"
   ]
  },
  {
   "cell_type": "code",
   "execution_count": 56,
   "metadata": {},
   "outputs": [
    {
     "data": {
      "text/html": [
       "<div>\n",
       "<style scoped>\n",
       "    .dataframe tbody tr th:only-of-type {\n",
       "        vertical-align: middle;\n",
       "    }\n",
       "\n",
       "    .dataframe tbody tr th {\n",
       "        vertical-align: top;\n",
       "    }\n",
       "\n",
       "    .dataframe thead th {\n",
       "        text-align: right;\n",
       "    }\n",
       "</style>\n",
       "<table border=\"1\" class=\"dataframe\">\n",
       "  <thead>\n",
       "    <tr style=\"text-align: right;\">\n",
       "      <th></th>\n",
       "      <th>Symbol</th>\n",
       "      <th>Exchange</th>\n",
       "      <th>Currency</th>\n",
       "      <th>SecType</th>\n",
       "      <th>ConId</th>\n",
       "      <th>LocalSymbol</th>\n",
       "      <th>TradingClass</th>\n",
       "      <th>Action</th>\n",
       "      <th>Quantity</th>\n",
       "      <th>OrderType</th>\n",
       "      <th>...</th>\n",
       "      <th>CumQty</th>\n",
       "      <th>OrderRef</th>\n",
       "      <th>EvRule</th>\n",
       "      <th>EvMultiplier</th>\n",
       "      <th>ModelCode</th>\n",
       "      <th>LastLiquidity</th>\n",
       "      <th>RealizedPNL</th>\n",
       "      <th>Yield</th>\n",
       "      <th>YieldRedemptionDate</th>\n",
       "      <th>ExecutionTime</th>\n",
       "    </tr>\n",
       "  </thead>\n",
       "  <tbody>\n",
       "  </tbody>\n",
       "</table>\n",
       "<p>0 rows × 40 columns</p>\n",
       "</div>"
      ],
      "text/plain": [
       "Empty DataFrame\n",
       "Columns: [Symbol, Exchange, Currency, SecType, ConId, LocalSymbol, TradingClass, Action, Quantity, OrderType, LimitPrice, TimeInForce, OrderId, ClientId, PermId, AuxPrice, Status, Filled, Remaining, AvgFillPrice, LastFillPrice, ParentId, WhyHeld, MktCapPrice, FillTime, FillQuantity, FillPrice, Commission, ExecId, AcctNumber, CumQty, OrderRef, EvRule, EvMultiplier, ModelCode, LastLiquidity, RealizedPNL, Yield, YieldRedemptionDate, ExecutionTime]\n",
       "Index: []\n",
       "\n",
       "[0 rows x 40 columns]"
      ]
     },
     "execution_count": 56,
     "metadata": {},
     "output_type": "execute_result"
    }
   ],
   "source": [
    "tracker.df"
   ]
  },
  {
   "cell_type": "code",
   "execution_count": 45,
   "metadata": {},
   "outputs": [
    {
     "data": {
      "text/plain": [
       "Symbol                 object\n",
       "Exchange               object\n",
       "Currency               object\n",
       "SecType                object\n",
       "ConId                  object\n",
       "LocalSymbol            object\n",
       "TradingClass           object\n",
       "Action                 object\n",
       "Quantity               object\n",
       "OrderType              object\n",
       "LimitPrice             object\n",
       "TimeInForce            object\n",
       "OrderId                object\n",
       "ClientId               object\n",
       "PermId                 object\n",
       "AuxPrice               object\n",
       "Status                 object\n",
       "Filled                 object\n",
       "Remaining              object\n",
       "AvgFillPrice           object\n",
       "LastFillPrice          object\n",
       "ParentId               object\n",
       "WhyHeld                object\n",
       "MktCapPrice            object\n",
       "FillTime               object\n",
       "FillQuantity           object\n",
       "FillPrice              object\n",
       "Commission             object\n",
       "ExecId                 object\n",
       "AcctNumber             object\n",
       "CumQty                 object\n",
       "OrderRef               object\n",
       "EvRule                 object\n",
       "EvMultiplier           object\n",
       "ModelCode              object\n",
       "LastLiquidity          object\n",
       "RealizedPNL            object\n",
       "Yield                  object\n",
       "YieldRedemptionDate    object\n",
       "ExecutionTime          object\n",
       "dtype: object"
      ]
     },
     "execution_count": 45,
     "metadata": {},
     "output_type": "execute_result"
    }
   ],
   "source": [
    "tracker.df.dtypes"
   ]
  },
  {
   "cell_type": "code",
   "execution_count": 46,
   "metadata": {},
   "outputs": [
    {
     "ename": "KeyError",
     "evalue": "\"['InitOrderTime'] not in index\"",
     "output_type": "error",
     "traceback": [
      "\u001b[0;31m---------------------------------------------------------------------------\u001b[0m",
      "\u001b[0;31mKeyError\u001b[0m                                  Traceback (most recent call last)",
      "Cell \u001b[0;32mIn[46], line 1\u001b[0m\n\u001b[0;32m----> 1\u001b[0m \u001b[43mtracker\u001b[49m\u001b[38;5;241;43m.\u001b[39;49m\u001b[43mdf\u001b[49m\u001b[43m[\u001b[49m\u001b[43m[\u001b[49m\u001b[38;5;124;43m'\u001b[39;49m\u001b[38;5;124;43mTimeInForce\u001b[39;49m\u001b[38;5;124;43m'\u001b[39;49m\u001b[43m,\u001b[49m\u001b[43m \u001b[49m\u001b[38;5;124;43m'\u001b[39;49m\u001b[38;5;124;43mFillTime\u001b[39;49m\u001b[38;5;124;43m'\u001b[39;49m\u001b[43m,\u001b[49m\u001b[43m \u001b[49m\u001b[38;5;124;43m'\u001b[39;49m\u001b[38;5;124;43mInitOrderTime\u001b[39;49m\u001b[38;5;124;43m'\u001b[39;49m\u001b[43m,\u001b[49m\u001b[43m \u001b[49m\u001b[38;5;124;43m'\u001b[39;49m\u001b[38;5;124;43mExecutionTime\u001b[39;49m\u001b[38;5;124;43m'\u001b[39;49m\u001b[43m]\u001b[49m\u001b[43m]\u001b[49m\n",
      "File \u001b[0;32m~/miniconda3/envs/insync_broker/lib/python3.11/site-packages/pandas/core/frame.py:4108\u001b[0m, in \u001b[0;36mDataFrame.__getitem__\u001b[0;34m(self, key)\u001b[0m\n\u001b[1;32m   4106\u001b[0m     \u001b[38;5;28;01mif\u001b[39;00m is_iterator(key):\n\u001b[1;32m   4107\u001b[0m         key \u001b[38;5;241m=\u001b[39m \u001b[38;5;28mlist\u001b[39m(key)\n\u001b[0;32m-> 4108\u001b[0m     indexer \u001b[38;5;241m=\u001b[39m \u001b[38;5;28;43mself\u001b[39;49m\u001b[38;5;241;43m.\u001b[39;49m\u001b[43mcolumns\u001b[49m\u001b[38;5;241;43m.\u001b[39;49m\u001b[43m_get_indexer_strict\u001b[49m\u001b[43m(\u001b[49m\u001b[43mkey\u001b[49m\u001b[43m,\u001b[49m\u001b[43m \u001b[49m\u001b[38;5;124;43m\"\u001b[39;49m\u001b[38;5;124;43mcolumns\u001b[39;49m\u001b[38;5;124;43m\"\u001b[39;49m\u001b[43m)\u001b[49m[\u001b[38;5;241m1\u001b[39m]\n\u001b[1;32m   4110\u001b[0m \u001b[38;5;66;03m# take() does not accept boolean indexers\u001b[39;00m\n\u001b[1;32m   4111\u001b[0m \u001b[38;5;28;01mif\u001b[39;00m \u001b[38;5;28mgetattr\u001b[39m(indexer, \u001b[38;5;124m\"\u001b[39m\u001b[38;5;124mdtype\u001b[39m\u001b[38;5;124m\"\u001b[39m, \u001b[38;5;28;01mNone\u001b[39;00m) \u001b[38;5;241m==\u001b[39m \u001b[38;5;28mbool\u001b[39m:\n",
      "File \u001b[0;32m~/miniconda3/envs/insync_broker/lib/python3.11/site-packages/pandas/core/indexes/base.py:6200\u001b[0m, in \u001b[0;36mIndex._get_indexer_strict\u001b[0;34m(self, key, axis_name)\u001b[0m\n\u001b[1;32m   6197\u001b[0m \u001b[38;5;28;01melse\u001b[39;00m:\n\u001b[1;32m   6198\u001b[0m     keyarr, indexer, new_indexer \u001b[38;5;241m=\u001b[39m \u001b[38;5;28mself\u001b[39m\u001b[38;5;241m.\u001b[39m_reindex_non_unique(keyarr)\n\u001b[0;32m-> 6200\u001b[0m \u001b[38;5;28;43mself\u001b[39;49m\u001b[38;5;241;43m.\u001b[39;49m\u001b[43m_raise_if_missing\u001b[49m\u001b[43m(\u001b[49m\u001b[43mkeyarr\u001b[49m\u001b[43m,\u001b[49m\u001b[43m \u001b[49m\u001b[43mindexer\u001b[49m\u001b[43m,\u001b[49m\u001b[43m \u001b[49m\u001b[43maxis_name\u001b[49m\u001b[43m)\u001b[49m\n\u001b[1;32m   6202\u001b[0m keyarr \u001b[38;5;241m=\u001b[39m \u001b[38;5;28mself\u001b[39m\u001b[38;5;241m.\u001b[39mtake(indexer)\n\u001b[1;32m   6203\u001b[0m \u001b[38;5;28;01mif\u001b[39;00m \u001b[38;5;28misinstance\u001b[39m(key, Index):\n\u001b[1;32m   6204\u001b[0m     \u001b[38;5;66;03m# GH 42790 - Preserve name from an Index\u001b[39;00m\n",
      "File \u001b[0;32m~/miniconda3/envs/insync_broker/lib/python3.11/site-packages/pandas/core/indexes/base.py:6252\u001b[0m, in \u001b[0;36mIndex._raise_if_missing\u001b[0;34m(self, key, indexer, axis_name)\u001b[0m\n\u001b[1;32m   6249\u001b[0m     \u001b[38;5;28;01mraise\u001b[39;00m \u001b[38;5;167;01mKeyError\u001b[39;00m(\u001b[38;5;124mf\u001b[39m\u001b[38;5;124m\"\u001b[39m\u001b[38;5;124mNone of [\u001b[39m\u001b[38;5;132;01m{\u001b[39;00mkey\u001b[38;5;132;01m}\u001b[39;00m\u001b[38;5;124m] are in the [\u001b[39m\u001b[38;5;132;01m{\u001b[39;00maxis_name\u001b[38;5;132;01m}\u001b[39;00m\u001b[38;5;124m]\u001b[39m\u001b[38;5;124m\"\u001b[39m)\n\u001b[1;32m   6251\u001b[0m not_found \u001b[38;5;241m=\u001b[39m \u001b[38;5;28mlist\u001b[39m(ensure_index(key)[missing_mask\u001b[38;5;241m.\u001b[39mnonzero()[\u001b[38;5;241m0\u001b[39m]]\u001b[38;5;241m.\u001b[39munique())\n\u001b[0;32m-> 6252\u001b[0m \u001b[38;5;28;01mraise\u001b[39;00m \u001b[38;5;167;01mKeyError\u001b[39;00m(\u001b[38;5;124mf\u001b[39m\u001b[38;5;124m\"\u001b[39m\u001b[38;5;132;01m{\u001b[39;00mnot_found\u001b[38;5;132;01m}\u001b[39;00m\u001b[38;5;124m not in index\u001b[39m\u001b[38;5;124m\"\u001b[39m)\n",
      "\u001b[0;31mKeyError\u001b[0m: \"['InitOrderTime'] not in index\""
     ]
    }
   ],
   "source": [
    "tracker.df[['TimeInForce', 'FillTime', 'InitOrderTime', 'ExecutionTime']]"
   ]
  },
  {
   "cell_type": "code",
   "execution_count": null,
   "metadata": {},
   "outputs": [],
   "source": [
    "# Initialize the tracker\n",
    "tracker = TradeTracker()\n",
    "\n",
    "# In your main trading loop:\n",
    "while trading:\n",
    "    # Your trading logic here\n",
    "    trade = ib.placeOrder(contract, order)\n",
    "    while not trade.isDone():\n",
    "        ib.waitOnUpdate()\n",
    "    \n",
    "    execution_time = end_time - start_time\n",
    "    \n",
    "    # Add the trade to the tracker\n",
    "    tracker.add_trade(trade, execution_time)\n",
    "\n",
    "# At the end of your trading session or whenever you want to save:\n",
    "#tracker.save_to_csv()"
   ]
  }
 ],
 "metadata": {
  "kernelspec": {
   "display_name": "insync_broker",
   "language": "python",
   "name": "python3"
  },
  "language_info": {
   "codemirror_mode": {
    "name": "ipython",
    "version": 3
   },
   "file_extension": ".py",
   "mimetype": "text/x-python",
   "name": "python",
   "nbconvert_exporter": "python",
   "pygments_lexer": "ipython3",
   "version": "3.11.9"
  }
 },
 "nbformat": 4,
 "nbformat_minor": 2
}

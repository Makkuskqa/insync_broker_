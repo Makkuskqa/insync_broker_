{
 "cells": [
  {
   "cell_type": "markdown",
   "metadata": {},
   "source": [
    "Contract details\n",
    "-------------------"
   ]
  },
  {
   "cell_type": "code",
   "execution_count": 7,
   "metadata": {},
   "outputs": [
    {
     "data": {
      "text/plain": [
       "<IB connected to 127.0.0.1:4002 clientId=11>"
      ]
     },
     "execution_count": 7,
     "metadata": {},
     "output_type": "execute_result"
    }
   ],
   "source": [
    "from ib_insync import *\n",
    "util.startLoop()\n",
    "\n",
    "import logging\n",
    "# util.logToConsole(logging.DEBUG)\n",
    "\n",
    "ib = IB()\n",
    "ib.connect('127.0.0.1', 4002, clientId=11)"
   ]
  },
  {
   "cell_type": "code",
   "execution_count": 24,
   "metadata": {},
   "outputs": [
    {
     "data": {
      "text/plain": [
       "[Stock(conId=265598, symbol='AAPL', exchange='SMART', primaryExchange='NASDAQ', currency='USD', localSymbol='AAPL', tradingClass='NMS')]"
      ]
     },
     "execution_count": 24,
     "metadata": {},
     "output_type": "execute_result"
    }
   ],
   "source": [
    "intc = Stock('AAPL', 'SMART', 'USD')\n",
    "ib.qualifyContracts(intc)"
   ]
  },
  {
   "cell_type": "code",
   "execution_count": 16,
   "metadata": {},
   "outputs": [
    {
     "data": {
      "text/plain": [
       "[Index(conId=416843, symbol='NDX', exchange='NASDAQ', currency='USD', localSymbol='NDX')]"
      ]
     },
     "execution_count": 16,
     "metadata": {},
     "output_type": "execute_result"
    }
   ],
   "source": [
    "contract = Index('NDX', 'NASDAQ', 'USD')\n",
    "ib.qualifyContracts(contract)"
   ]
  },
  {
   "cell_type": "markdown",
   "metadata": {},
   "source": [
    "Suppose we want to find the contract details for AMD stock.\n",
    "Let's create a stock object and request the details for it:"
   ]
  },
  {
   "cell_type": "code",
   "execution_count": 17,
   "metadata": {},
   "outputs": [
    {
     "data": {
      "text/plain": [
       "1"
      ]
     },
     "execution_count": 17,
     "metadata": {},
     "output_type": "execute_result"
    }
   ],
   "source": [
    "amd = Index('NDX', 'NASDAQ', 'USD')\n",
    "\n",
    "cds = ib.reqContractDetails(amd)\n",
    "\n",
    "len(cds)"
   ]
  },
  {
   "cell_type": "markdown",
   "metadata": {},
   "source": [
    "We get a long list of contract details. Lets print the first one:"
   ]
  },
  {
   "cell_type": "code",
   "execution_count": 18,
   "metadata": {},
   "outputs": [
    {
     "data": {
      "text/plain": [
       "ContractDetails(contract=Contract(secType='IND', conId=416843, symbol='NDX', exchange='NASDAQ', currency='USD', localSymbol='NDX'), marketName='', minTick=0.01, orderTypes='ACTIVETIM,AD,ADJUST,ALERT,ALLOC,BASKET,BENCHPX,COND,CONDORDER,DAY,DEACT,DEACTDIS,DEACTEOD,GAT,GTC,GTD,GTT,HID,LMT,NONALGO,OCA,SCALE,SCALERST,WHATIF', validExchanges='NASDAQ', priceMagnifier=1, underConId=0, longName='NASDAQ 100 Stock Index', contractMonth='', industry='Indices', category='Broad Range Equity Index', subcategory='*', timeZoneId='US/Eastern', tradingHours='20240729:0930-20240729:1600;20240730:0930-20240730:1600;20240731:0930-20240731:1600;20240801:0930-20240801:1600;20240802:0930-20240802:1600', liquidHours='20240729:0930-20240729:1600;20240730:0930-20240730:1600;20240731:0930-20240731:1600;20240801:0930-20240801:1600;20240802:0930-20240802:1600', evRule='', evMultiplier=0, mdSizeMultiplier=1, aggGroup=2147483647, underSymbol='', underSecType='', marketRuleIds='25', secIdList=[], realExpirationDate='', lastTradeTime='', stockType='', minSize=1.0, sizeIncrement=1.0, suggestedSizeIncrement=1.0, cusip='', ratings='', descAppend='', bondType='', couponType='', callable=False, putable=False, coupon=0, convertible=False, maturity='', issueDate='', nextOptionDate='', nextOptionType='', nextOptionPartial=False, notes='')"
      ]
     },
     "execution_count": 18,
     "metadata": {},
     "output_type": "execute_result"
    }
   ],
   "source": [
    "cds[0]"
   ]
  },
  {
   "cell_type": "markdown",
   "metadata": {},
   "source": [
    "The contract itself is in the 'contract' property of the contract details. Lets make a list of contracts and look at the first:"
   ]
  },
  {
   "cell_type": "code",
   "execution_count": 19,
   "metadata": {},
   "outputs": [
    {
     "data": {
      "text/plain": [
       "Contract(secType='IND', conId=416843, symbol='NDX', exchange='NASDAQ', currency='USD', localSymbol='NDX')"
      ]
     },
     "execution_count": 19,
     "metadata": {},
     "output_type": "execute_result"
    }
   ],
   "source": [
    "contracts = [cd.contract for cd in cds]\n",
    "\n",
    "contracts[0]"
   ]
  },
  {
   "cell_type": "markdown",
   "metadata": {},
   "source": [
    "To better spot the difference between all the contracts it's handy to convert to a DataFrame. There is a utility function to do that:"
   ]
  },
  {
   "cell_type": "code",
   "execution_count": 20,
   "metadata": {},
   "outputs": [
    {
     "data": {
      "text/html": [
       "<div>\n",
       "<style scoped>\n",
       "    .dataframe tbody tr th:only-of-type {\n",
       "        vertical-align: middle;\n",
       "    }\n",
       "\n",
       "    .dataframe tbody tr th {\n",
       "        vertical-align: top;\n",
       "    }\n",
       "\n",
       "    .dataframe thead th {\n",
       "        text-align: right;\n",
       "    }\n",
       "</style>\n",
       "<table border=\"1\" class=\"dataframe\">\n",
       "  <thead>\n",
       "    <tr style=\"text-align: right;\">\n",
       "      <th></th>\n",
       "      <th>secType</th>\n",
       "      <th>conId</th>\n",
       "      <th>symbol</th>\n",
       "      <th>lastTradeDateOrContractMonth</th>\n",
       "      <th>strike</th>\n",
       "      <th>right</th>\n",
       "      <th>multiplier</th>\n",
       "      <th>exchange</th>\n",
       "      <th>primaryExchange</th>\n",
       "      <th>currency</th>\n",
       "      <th>localSymbol</th>\n",
       "      <th>tradingClass</th>\n",
       "      <th>includeExpired</th>\n",
       "      <th>secIdType</th>\n",
       "      <th>secId</th>\n",
       "      <th>description</th>\n",
       "      <th>issuerId</th>\n",
       "      <th>comboLegsDescrip</th>\n",
       "      <th>comboLegs</th>\n",
       "      <th>deltaNeutralContract</th>\n",
       "    </tr>\n",
       "  </thead>\n",
       "  <tbody>\n",
       "    <tr>\n",
       "      <th>0</th>\n",
       "      <td>IND</td>\n",
       "      <td>416843</td>\n",
       "      <td>NDX</td>\n",
       "      <td></td>\n",
       "      <td>0.0</td>\n",
       "      <td></td>\n",
       "      <td></td>\n",
       "      <td>NASDAQ</td>\n",
       "      <td></td>\n",
       "      <td>USD</td>\n",
       "      <td>NDX</td>\n",
       "      <td></td>\n",
       "      <td>False</td>\n",
       "      <td></td>\n",
       "      <td></td>\n",
       "      <td></td>\n",
       "      <td></td>\n",
       "      <td></td>\n",
       "      <td>[]</td>\n",
       "      <td>None</td>\n",
       "    </tr>\n",
       "  </tbody>\n",
       "</table>\n",
       "</div>"
      ],
      "text/plain": [
       "  secType   conId symbol lastTradeDateOrContractMonth  strike right  \\\n",
       "0     IND  416843    NDX                                  0.0         \n",
       "\n",
       "  multiplier exchange primaryExchange currency localSymbol tradingClass  \\\n",
       "0              NASDAQ                      USD         NDX                \n",
       "\n",
       "   includeExpired secIdType secId description issuerId comboLegsDescrip  \\\n",
       "0           False                                                         \n",
       "\n",
       "  comboLegs deltaNeutralContract  \n",
       "0        []                 None  "
      ]
     },
     "execution_count": 20,
     "metadata": {},
     "output_type": "execute_result"
    }
   ],
   "source": [
    "util.df(contracts)"
   ]
  },
  {
   "cell_type": "markdown",
   "metadata": {},
   "source": [
    "We can see from this that AMD trades in different currencies on different exchanges.\n",
    "Suppose we want the one in USD on the SMART exchange. The AMD contract is adjusted to\n",
    "reflect that and becomes unique:"
   ]
  },
  {
   "cell_type": "code",
   "execution_count": 6,
   "metadata": {},
   "outputs": [],
   "source": [
    "amd = Stock('AMD', 'SMART', 'USD')\n",
    "\n",
    "assert len(ib.reqContractDetails(amd)) == 1"
   ]
  },
  {
   "cell_type": "markdown",
   "metadata": {},
   "source": [
    "Lets try the same for Intel:"
   ]
  },
  {
   "cell_type": "code",
   "execution_count": 7,
   "metadata": {},
   "outputs": [],
   "source": [
    "intc = Stock('INTC', 'SMART', 'USD')\n",
    "\n",
    "assert len(ib.reqContractDetails(intc)) == 1"
   ]
  },
  {
   "cell_type": "markdown",
   "metadata": {},
   "source": [
    "Let's try a non-existing contract:"
   ]
  },
  {
   "cell_type": "code",
   "execution_count": 8,
   "metadata": {},
   "outputs": [
    {
     "name": "stderr",
     "output_type": "stream",
     "text": [
      "Error 200, reqId 6: No security definition has been found for the request, contract: Stock(symbol='XXX', exchange='SMART', currency='USD', comboLegs=[])\n"
     ]
    }
   ],
   "source": [
    "xxx = Stock('XXX', 'SMART', 'USD')\n",
    "\n",
    "assert len(ib.reqContractDetails(xxx)) == 0"
   ]
  },
  {
   "cell_type": "markdown",
   "metadata": {},
   "source": [
    "or a Forex contract"
   ]
  },
  {
   "cell_type": "code",
   "execution_count": 9,
   "metadata": {},
   "outputs": [],
   "source": [
    "eurusd = Forex('EURUSD')\n",
    "\n",
    "assert len(ib.reqContractDetails(eurusd)) == 1"
   ]
  },
  {
   "cell_type": "markdown",
   "metadata": {},
   "source": [
    "With the ``qualifyContracts`` method the extra information that is send back\n",
    "from the contract details request is used to fill in the original contracts.\n",
    "\n",
    "Lets do that with ``amd`` and compare before and aftwards:"
   ]
  },
  {
   "cell_type": "code",
   "execution_count": 10,
   "metadata": {},
   "outputs": [
    {
     "data": {
      "text/plain": [
       "Stock(symbol='AMD', exchange='SMART', currency='USD', comboLegs=[])"
      ]
     },
     "execution_count": 10,
     "metadata": {},
     "output_type": "execute_result"
    }
   ],
   "source": [
    "amd"
   ]
  },
  {
   "cell_type": "code",
   "execution_count": 21,
   "metadata": {},
   "outputs": [
    {
     "data": {
      "text/plain": [
       "Index(conId=416843, symbol='NDX', exchange='NASDAQ', currency='USD', localSymbol='NDX')"
      ]
     },
     "execution_count": 21,
     "metadata": {},
     "output_type": "execute_result"
    }
   ],
   "source": [
    "ib.qualifyContracts(amd)\n",
    "amd"
   ]
  },
  {
   "cell_type": "markdown",
   "metadata": {},
   "source": [
    "**TIP:** When printing a contract, the output can be copy-pasted and it will be valid Python code.\n",
    "\n",
    "The ``conId`` that is returned can by itself be used to uniquely specify a contract:"
   ]
  },
  {
   "cell_type": "code",
   "execution_count": 22,
   "metadata": {},
   "outputs": [],
   "source": [
    "contract_4391 = Contract(conId=416843)\n",
    "\n",
    "ib.qualifyContracts(contract_4391)\n",
    "\n",
    "assert contract_4391 == amd"
   ]
  },
  {
   "cell_type": "markdown",
   "metadata": {},
   "source": [
    "A whole bunch of contracts can be qualified at the same time. A list of all the successfull ones is returned:"
   ]
  },
  {
   "cell_type": "code",
   "execution_count": 23,
   "metadata": {},
   "outputs": [
    {
     "ename": "NameError",
     "evalue": "name 'intc' is not defined",
     "output_type": "error",
     "traceback": [
      "\u001b[0;31m---------------------------------------------------------------------------\u001b[0m",
      "\u001b[0;31mNameError\u001b[0m                                 Traceback (most recent call last)",
      "Cell \u001b[0;32mIn[23], line 1\u001b[0m\n\u001b[0;32m----> 1\u001b[0m qualContracts \u001b[38;5;241m=\u001b[39m ib\u001b[38;5;241m.\u001b[39mqualifyContracts(amd, \u001b[43mintc\u001b[49m, xxx, eurusd)\n\u001b[1;32m      3\u001b[0m \u001b[38;5;28;01massert\u001b[39;00m intc \u001b[38;5;129;01min\u001b[39;00m qualContracts\n\u001b[1;32m      4\u001b[0m \u001b[38;5;28;01massert\u001b[39;00m xxx \u001b[38;5;129;01mnot\u001b[39;00m \u001b[38;5;129;01min\u001b[39;00m qualContracts\n",
      "\u001b[0;31mNameError\u001b[0m: name 'intc' is not defined"
     ]
    }
   ],
   "source": [
    "qualContracts = ib.qualifyContracts(amd, intc, xxx, eurusd)\n",
    "\n",
    "assert intc in qualContracts\n",
    "assert xxx not in qualContracts"
   ]
  },
  {
   "cell_type": "markdown",
   "metadata": {},
   "source": [
    "There is also an API function to request stocks (only stocks) that match a pattern:"
   ]
  },
  {
   "cell_type": "code",
   "execution_count": 14,
   "metadata": {},
   "outputs": [
    {
     "data": {
      "text/plain": [
       "[ContractDescription(contract=Contract(secType='STK', conId=38709539, symbol='INTC', primaryExchange='MEXI', currency='MXN', comboLegs=[]), derivativeSecTypes=[]),\n",
       " ContractDescription(contract=Contract(secType='STK', conId=270639, symbol='INTC', primaryExchange='NASDAQ.NMS', currency='USD', comboLegs=[]), derivativeSecTypes=['CFD', 'OPT', 'IOPT', 'WAR', 'FUT']),\n",
       " ContractDescription(contract=Contract(secType='STK', conId=12178234, symbol='INTC', primaryExchange='EBS', currency='CHF', comboLegs=[]), derivativeSecTypes=[]),\n",
       " ContractDescription(contract=Contract(secType='STK', conId=11463493, symbol='INTCUSD', primaryExchange='EBS', currency='USD', comboLegs=[]), derivativeSecTypes=[]),\n",
       " ContractDescription(contract=Contract(secType='STK', conId=130861844, symbol='S', primaryExchange='MEXI', currency='MXN', comboLegs=[]), derivativeSecTypes=[]),\n",
       " ContractDescription(contract=Contract(secType='STK', conId=130861851, symbol='2S7', primaryExchange='FWB', currency='EUR', comboLegs=[]), derivativeSecTypes=[]),\n",
       " ContractDescription(contract=Contract(secType='STK', conId=130651996, symbol='S', primaryExchange='NYSE', currency='USD', comboLegs=[]), derivativeSecTypes=['CFD', 'OPT', 'FUT']),\n",
       " ContractDescription(contract=Contract(secType='STK', conId=14015710, symbol='4613', primaryExchange='TSEJ', currency='JPY', comboLegs=[]), derivativeSecTypes=['CFD']),\n",
       " ContractDescription(contract=Contract(secType='STK', conId=257765562, symbol='603737', primaryExchange='SEHKNTL', currency='CNH', comboLegs=[]), derivativeSecTypes=[]),\n",
       " ContractDescription(contract=Contract(secType='STK', conId=257310905, symbol='002436', primaryExchange='SEHKSZSE', currency='CNH', comboLegs=[]), derivativeSecTypes=[]),\n",
       " ContractDescription(contract=Contract(secType='STK', conId=234809383, symbol='FING.B', primaryExchange='SFB', currency='SEK', comboLegs=[]), derivativeSecTypes=['CFD', 'OPT', 'IOPT']),\n",
       " ContractDescription(contract=Contract(secType='STK', conId=234809384, symbol='FPQ1', primaryExchange='FWB2', currency='EUR', comboLegs=[]), derivativeSecTypes=['IOPT']),\n",
       " ContractDescription(contract=Contract(secType='STK', conId=83364054, symbol='FRP', primaryExchange='VALUE', currency='USD', comboLegs=[]), derivativeSecTypes=[]),\n",
       " ContractDescription(contract=Contract(secType='STK', conId=169544707, symbol='ECC', primaryExchange='NYSE', currency='USD', comboLegs=[]), derivativeSecTypes=[]),\n",
       " ContractDescription(contract=Contract(secType='STK', conId=96816938, symbol='E16', primaryExchange='SGX', currency='USD', comboLegs=[]), derivativeSecTypes=[]),\n",
       " ContractDescription(contract=Contract(secType='STK', conId=90691307, symbol='1151', primaryExchange='SEHK', currency='HKD', comboLegs=[]), derivativeSecTypes=[]),\n",
       " ContractDescription(contract=Contract(secType='STK', conId=173148149, symbol='JYNT', primaryExchange='NASDAQ.SCM', currency='USD', comboLegs=[]), derivativeSecTypes=['OPT']),\n",
       " ContractDescription(contract=Contract(secType='STK', conId=392988575, symbol='1JO', primaryExchange='FWB2', currency='EUR', comboLegs=[]), derivativeSecTypes=[]),\n",
       " ContractDescription(contract=Contract(secType='STK', conId=131085231, symbol='4621', primaryExchange='TSEJ', currency='JPY', comboLegs=[]), derivativeSecTypes=[])]"
      ]
     },
     "execution_count": 14,
     "metadata": {},
     "output_type": "execute_result"
    }
   ],
   "source": [
    "matches = ib.reqMatchingSymbols('intc')\n",
    "matchContracts = [m.contract for m in matches]\n",
    "\n",
    "matches"
   ]
  },
  {
   "cell_type": "code",
   "execution_count": 15,
   "metadata": {},
   "outputs": [],
   "source": [
    "assert intc in matchContracts"
   ]
  },
  {
   "cell_type": "code",
   "execution_count": 6,
   "metadata": {},
   "outputs": [],
   "source": [
    "ib.disconnect()"
   ]
  }
 ],
 "metadata": {
  "kernelspec": {
   "display_name": "Python 3",
   "language": "python",
   "name": "python3"
  },
  "language_info": {
   "codemirror_mode": {
    "name": "ipython",
    "version": 3
   },
   "file_extension": ".py",
   "mimetype": "text/x-python",
   "name": "python",
   "nbconvert_exporter": "python",
   "pygments_lexer": "ipython3",
   "version": "3.11.9"
  }
 },
 "nbformat": 4,
 "nbformat_minor": 4
}

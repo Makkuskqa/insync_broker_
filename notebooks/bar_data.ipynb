{
 "cells": [
  {
   "cell_type": "markdown",
   "metadata": {},
   "source": [
    "# Bar data"
   ]
  },
  {
   "cell_type": "code",
   "execution_count": 1,
   "metadata": {},
   "outputs": [
    {
     "data": {
      "text/plain": [
       "<IB connected to 127.0.0.1:4002 clientId=14>"
      ]
     },
     "execution_count": 1,
     "metadata": {},
     "output_type": "execute_result"
    },
    {
     "name": "stderr",
     "output_type": "stream",
     "text": [
      "Error 354, reqId 4: Requested market data is not subscribed.Delayed market data is available.Error&BEST/STK/Top&BEST/STK/Top, contract: Stock(symbol='AAPL', exchange='SMART', primaryExchange='NASDAQ', currency='USD', localSymbol='AAPL', tradingClass='NMS')\n",
      "Error 162, reqId 5: Historical Market Data Service error message:No market data permissions for ISLAND STK. Requested market data requires additional subscription for API. See link in 'Market Data Connections' dialog for more details., contract: Stock(symbol='AAPL', exchange='SMART', primaryExchange='NASDAQ', currency='USD', localSymbol='AAPL', tradingClass='NMS')\n",
      "Error 162, reqId 6: Historical Market Data Service error message:API historical data query cancelled: 6\n"
     ]
    },
    {
     "name": "stdout",
     "output_type": "stream",
     "text": [
      "RealTimeBar(time=datetime.datetime(2024, 7, 31, 21, 29, tzinfo=datetime.timezone.utc), endTime=-1, open_=1.082725, high=1.082725, low=1.082725, close=1.082725, volume=-1.0, wap=-1.0, count=-1)\n",
      "RealTimeBar(time=datetime.datetime(2024, 7, 31, 21, 29, 5, tzinfo=datetime.timezone.utc), endTime=-1, open_=1.082725, high=1.082725, low=1.082725, close=1.082725, volume=-1.0, wap=-1.0, count=-1)\n",
      "RealTimeBar(time=datetime.datetime(2024, 7, 31, 21, 29, 10, tzinfo=datetime.timezone.utc), endTime=-1, open_=1.082725, high=1.082725, low=1.08272, close=1.08272, volume=-1.0, wap=-1.0, count=-1)\n",
      "RealTimeBar(time=datetime.datetime(2024, 7, 31, 21, 29, 15, tzinfo=datetime.timezone.utc), endTime=-1, open_=1.08272, high=1.08272, low=1.08272, close=1.08272, volume=-1.0, wap=-1.0, count=-1)\n",
      "RealTimeBar(time=datetime.datetime(2024, 7, 31, 21, 29, 20, tzinfo=datetime.timezone.utc), endTime=-1, open_=1.08272, high=1.08273, low=1.08272, close=1.08273, volume=-1.0, wap=-1.0, count=-1)\n",
      "RealTimeBar(time=datetime.datetime(2024, 7, 31, 21, 29, 25, tzinfo=datetime.timezone.utc), endTime=-1, open_=1.08273, high=1.08273, low=1.08273, close=1.08273, volume=-1.0, wap=-1.0, count=-1)\n",
      "RealTimeBar(time=datetime.datetime(2024, 7, 31, 21, 29, 25, tzinfo=datetime.timezone.utc), endTime=-1, open_=1.08273, high=1.08273, low=1.08273, close=1.08273, volume=-1.0, wap=-1.0, count=-1)\n",
      "RealTimeBar(time=datetime.datetime(2024, 7, 31, 21, 29, 30, tzinfo=datetime.timezone.utc), endTime=-1, open_=1.08273, high=1.08273, low=1.08273, close=1.08273, volume=-1.0, wap=-1.0, count=-1)\n",
      "RealTimeBar(time=datetime.datetime(2024, 7, 31, 21, 29, 30, tzinfo=datetime.timezone.utc), endTime=-1, open_=1.08273, high=1.08273, low=1.08273, close=1.08273, volume=-1.0, wap=-1.0, count=-1)\n",
      "RealTimeBar(time=datetime.datetime(2024, 7, 31, 21, 29, 35, tzinfo=datetime.timezone.utc), endTime=-1, open_=1.08273, high=1.08273, low=1.082725, close=1.082725, volume=-1.0, wap=-1.0, count=-1)\n",
      "RealTimeBar(time=datetime.datetime(2024, 7, 31, 21, 29, 35, tzinfo=datetime.timezone.utc), endTime=-1, open_=1.08273, high=1.08273, low=1.082725, close=1.082725, volume=-1.0, wap=-1.0, count=-1)\n",
      "RealTimeBar(time=datetime.datetime(2024, 7, 31, 21, 29, 40, tzinfo=datetime.timezone.utc), endTime=-1, open_=1.082725, high=1.082725, low=1.082725, close=1.082725, volume=-1.0, wap=-1.0, count=-1)\n",
      "RealTimeBar(time=datetime.datetime(2024, 7, 31, 21, 29, 40, tzinfo=datetime.timezone.utc), endTime=-1, open_=1.082725, high=1.082725, low=1.082725, close=1.082725, volume=-1.0, wap=-1.0, count=-1)\n",
      "RealTimeBar(time=datetime.datetime(2024, 7, 31, 21, 29, 45, tzinfo=datetime.timezone.utc), endTime=-1, open_=1.082725, high=1.082725, low=1.082725, close=1.082725, volume=-1.0, wap=-1.0, count=-1)\n",
      "RealTimeBar(time=datetime.datetime(2024, 7, 31, 21, 29, 45, tzinfo=datetime.timezone.utc), endTime=-1, open_=1.082725, high=1.082725, low=1.082725, close=1.082725, volume=-1.0, wap=-1.0, count=-1)\n",
      "RealTimeBar(time=datetime.datetime(2024, 7, 31, 21, 29, 50, tzinfo=datetime.timezone.utc), endTime=-1, open_=1.082725, high=1.082725, low=1.082725, close=1.082725, volume=-1.0, wap=-1.0, count=-1)\n",
      "RealTimeBar(time=datetime.datetime(2024, 7, 31, 21, 29, 50, tzinfo=datetime.timezone.utc), endTime=-1, open_=1.082725, high=1.082725, low=1.082725, close=1.082725, volume=-1.0, wap=-1.0, count=-1)\n",
      "RealTimeBar(time=datetime.datetime(2024, 7, 31, 21, 29, 55, tzinfo=datetime.timezone.utc), endTime=-1, open_=1.082725, high=1.082725, low=1.082725, close=1.082725, volume=-1.0, wap=-1.0, count=-1)\n",
      "RealTimeBar(time=datetime.datetime(2024, 7, 31, 21, 29, 55, tzinfo=datetime.timezone.utc), endTime=-1, open_=1.082725, high=1.082725, low=1.082725, close=1.082725, volume=-1.0, wap=-1.0, count=-1)\n"
     ]
    },
    {
     "name": "stderr",
     "output_type": "stream",
     "text": [
      "Error 10089, reqId 10: Requested market data requires additional subscription for API. See link in 'Market Data Connections' dialog for more details., contract: Stock(symbol='AAPL', exchange='SMART', primaryExchange='NASDAQ', currency='USD', localSymbol='AAPL', tradingClass='NMS')\n"
     ]
    },
    {
     "name": "stdout",
     "output_type": "stream",
     "text": [
      "RealTimeBar(time=datetime.datetime(2024, 7, 31, 21, 30, tzinfo=datetime.timezone.utc), endTime=-1, open_=1.082725, high=1.082735, low=1.08272, close=1.08272, volume=-1.0, wap=-1.0, count=-1)\n",
      "RealTimeBar(time=datetime.datetime(2024, 7, 31, 21, 30, tzinfo=datetime.timezone.utc), endTime=-1, open_=1.082725, high=1.082735, low=1.08272, close=1.08272, volume=-1.0, wap=-1.0, count=-1)\n",
      "RealTimeBar(time=datetime.datetime(2024, 7, 31, 21, 30, 5, tzinfo=datetime.timezone.utc), endTime=-1, open_=1.08272, high=1.08272, low=1.08272, close=1.08272, volume=-1.0, wap=-1.0, count=-1)\n",
      "RealTimeBar(time=datetime.datetime(2024, 7, 31, 21, 30, 5, tzinfo=datetime.timezone.utc), endTime=-1, open_=1.08272, high=1.08272, low=1.08272, close=1.08272, volume=-1.0, wap=-1.0, count=-1)\n",
      "RealTimeBar(time=datetime.datetime(2024, 7, 31, 21, 30, 10, tzinfo=datetime.timezone.utc), endTime=-1, open_=1.08272, high=1.08272, low=1.08272, close=1.08272, volume=-1.0, wap=-1.0, count=-1)\n",
      "RealTimeBar(time=datetime.datetime(2024, 7, 31, 21, 30, 10, tzinfo=datetime.timezone.utc), endTime=-1, open_=1.08272, high=1.08272, low=1.08272, close=1.08272, volume=-1.0, wap=-1.0, count=-1)\n",
      "RealTimeBar(time=datetime.datetime(2024, 7, 31, 21, 30, 15, tzinfo=datetime.timezone.utc), endTime=-1, open_=1.08272, high=1.082735, low=1.08272, close=1.082735, volume=-1.0, wap=-1.0, count=-1)\n",
      "RealTimeBar(time=datetime.datetime(2024, 7, 31, 21, 30, 15, tzinfo=datetime.timezone.utc), endTime=-1, open_=1.08272, high=1.082735, low=1.08272, close=1.082735, volume=-1.0, wap=-1.0, count=-1)\n",
      "RealTimeBar(time=datetime.datetime(2024, 7, 31, 21, 30, 20, tzinfo=datetime.timezone.utc), endTime=-1, open_=1.082735, high=1.082735, low=1.082735, close=1.082735, volume=-1.0, wap=-1.0, count=-1)\n",
      "RealTimeBar(time=datetime.datetime(2024, 7, 31, 21, 30, 20, tzinfo=datetime.timezone.utc), endTime=-1, open_=1.082735, high=1.082735, low=1.082735, close=1.082735, volume=-1.0, wap=-1.0, count=-1)\n",
      "RealTimeBar(time=datetime.datetime(2024, 7, 31, 21, 30, 20, tzinfo=datetime.timezone.utc), endTime=-1, open_=1.082735, high=1.082735, low=1.082735, close=1.082735, volume=-1.0, wap=-1.0, count=-1)\n",
      "RealTimeBar(time=datetime.datetime(2024, 7, 31, 21, 30, 25, tzinfo=datetime.timezone.utc), endTime=-1, open_=1.082735, high=1.082735, low=1.082725, close=1.082725, volume=-1.0, wap=-1.0, count=-1)\n",
      "RealTimeBar(time=datetime.datetime(2024, 7, 31, 21, 30, 25, tzinfo=datetime.timezone.utc), endTime=-1, open_=1.082735, high=1.082735, low=1.082725, close=1.082725, volume=-1.0, wap=-1.0, count=-1)\n",
      "RealTimeBar(time=datetime.datetime(2024, 7, 31, 21, 30, 25, tzinfo=datetime.timezone.utc), endTime=-1, open_=1.082735, high=1.082735, low=1.082725, close=1.082725, volume=-1.0, wap=-1.0, count=-1)\n",
      "RealTimeBar(time=datetime.datetime(2024, 7, 31, 21, 30, 30, tzinfo=datetime.timezone.utc), endTime=-1, open_=1.082725, high=1.082725, low=1.082725, close=1.082725, volume=-1.0, wap=-1.0, count=-1)\n",
      "RealTimeBar(time=datetime.datetime(2024, 7, 31, 21, 30, 30, tzinfo=datetime.timezone.utc), endTime=-1, open_=1.082725, high=1.082725, low=1.082725, close=1.082725, volume=-1.0, wap=-1.0, count=-1)\n",
      "RealTimeBar(time=datetime.datetime(2024, 7, 31, 21, 30, 30, tzinfo=datetime.timezone.utc), endTime=-1, open_=1.082725, high=1.082725, low=1.082725, close=1.082725, volume=-1.0, wap=-1.0, count=-1)\n",
      "RealTimeBar(time=datetime.datetime(2024, 7, 31, 21, 30, 35, tzinfo=datetime.timezone.utc), endTime=-1, open_=1.082725, high=1.082725, low=1.082725, close=1.082725, volume=-1.0, wap=-1.0, count=-1)\n",
      "RealTimeBar(time=datetime.datetime(2024, 7, 31, 21, 30, 35, tzinfo=datetime.timezone.utc), endTime=-1, open_=1.082725, high=1.082725, low=1.082725, close=1.082725, volume=-1.0, wap=-1.0, count=-1)\n",
      "RealTimeBar(time=datetime.datetime(2024, 7, 31, 21, 30, 35, tzinfo=datetime.timezone.utc), endTime=-1, open_=1.082725, high=1.082725, low=1.082725, close=1.082725, volume=-1.0, wap=-1.0, count=-1)\n",
      "RealTimeBar(time=datetime.datetime(2024, 7, 31, 21, 30, 40, tzinfo=datetime.timezone.utc), endTime=-1, open_=1.082725, high=1.082735, low=1.082725, close=1.082735, volume=-1.0, wap=-1.0, count=-1)\n",
      "RealTimeBar(time=datetime.datetime(2024, 7, 31, 21, 30, 40, tzinfo=datetime.timezone.utc), endTime=-1, open_=1.082725, high=1.082735, low=1.082725, close=1.082735, volume=-1.0, wap=-1.0, count=-1)\n",
      "RealTimeBar(time=datetime.datetime(2024, 7, 31, 21, 30, 40, tzinfo=datetime.timezone.utc), endTime=-1, open_=1.082725, high=1.082735, low=1.082725, close=1.082735, volume=-1.0, wap=-1.0, count=-1)\n",
      "RealTimeBar(time=datetime.datetime(2024, 7, 31, 21, 30, 45, tzinfo=datetime.timezone.utc), endTime=-1, open_=1.082735, high=1.082735, low=1.082735, close=1.082735, volume=-1.0, wap=-1.0, count=-1)\n",
      "RealTimeBar(time=datetime.datetime(2024, 7, 31, 21, 30, 45, tzinfo=datetime.timezone.utc), endTime=-1, open_=1.082735, high=1.082735, low=1.082735, close=1.082735, volume=-1.0, wap=-1.0, count=-1)\n",
      "RealTimeBar(time=datetime.datetime(2024, 7, 31, 21, 30, 45, tzinfo=datetime.timezone.utc), endTime=-1, open_=1.082735, high=1.082735, low=1.082735, close=1.082735, volume=-1.0, wap=-1.0, count=-1)\n",
      "RealTimeBar(time=datetime.datetime(2024, 7, 31, 21, 30, 50, tzinfo=datetime.timezone.utc), endTime=-1, open_=1.082735, high=1.082735, low=1.082735, close=1.082735, volume=-1.0, wap=-1.0, count=-1)\n",
      "RealTimeBar(time=datetime.datetime(2024, 7, 31, 21, 30, 50, tzinfo=datetime.timezone.utc), endTime=-1, open_=1.082735, high=1.082735, low=1.082735, close=1.082735, volume=-1.0, wap=-1.0, count=-1)\n",
      "RealTimeBar(time=datetime.datetime(2024, 7, 31, 21, 30, 50, tzinfo=datetime.timezone.utc), endTime=-1, open_=1.082735, high=1.082735, low=1.082735, close=1.082735, volume=-1.0, wap=-1.0, count=-1)\n",
      "RealTimeBar(time=datetime.datetime(2024, 7, 31, 21, 30, 55, tzinfo=datetime.timezone.utc), endTime=-1, open_=1.082735, high=1.082735, low=1.082735, close=1.082735, volume=-1.0, wap=-1.0, count=-1)\n",
      "RealTimeBar(time=datetime.datetime(2024, 7, 31, 21, 30, 55, tzinfo=datetime.timezone.utc), endTime=-1, open_=1.082735, high=1.082735, low=1.082735, close=1.082735, volume=-1.0, wap=-1.0, count=-1)\n",
      "RealTimeBar(time=datetime.datetime(2024, 7, 31, 21, 30, 55, tzinfo=datetime.timezone.utc), endTime=-1, open_=1.082735, high=1.082735, low=1.082735, close=1.082735, volume=-1.0, wap=-1.0, count=-1)\n",
      "RealTimeBar(time=datetime.datetime(2024, 7, 31, 21, 31, tzinfo=datetime.timezone.utc), endTime=-1, open_=1.082735, high=1.082735, low=1.08272, close=1.082735, volume=-1.0, wap=-1.0, count=-1)\n",
      "RealTimeBar(time=datetime.datetime(2024, 7, 31, 21, 31, tzinfo=datetime.timezone.utc), endTime=-1, open_=1.082735, high=1.082735, low=1.08272, close=1.082735, volume=-1.0, wap=-1.0, count=-1)\n",
      "RealTimeBar(time=datetime.datetime(2024, 7, 31, 21, 31, tzinfo=datetime.timezone.utc), endTime=-1, open_=1.082735, high=1.082735, low=1.08272, close=1.082735, volume=-1.0, wap=-1.0, count=-1)\n",
      "RealTimeBar(time=datetime.datetime(2024, 7, 31, 21, 31, 5, tzinfo=datetime.timezone.utc), endTime=-1, open_=1.082735, high=1.082735, low=1.082735, close=1.082735, volume=-1.0, wap=-1.0, count=-1)\n",
      "RealTimeBar(time=datetime.datetime(2024, 7, 31, 21, 31, 5, tzinfo=datetime.timezone.utc), endTime=-1, open_=1.082735, high=1.082735, low=1.082735, close=1.082735, volume=-1.0, wap=-1.0, count=-1)\n",
      "RealTimeBar(time=datetime.datetime(2024, 7, 31, 21, 31, 5, tzinfo=datetime.timezone.utc), endTime=-1, open_=1.082735, high=1.082735, low=1.082735, close=1.082735, volume=-1.0, wap=-1.0, count=-1)\n",
      "RealTimeBar(time=datetime.datetime(2024, 7, 31, 21, 31, 10, tzinfo=datetime.timezone.utc), endTime=-1, open_=1.082735, high=1.082735, low=1.08272, close=1.082735, volume=-1.0, wap=-1.0, count=-1)\n",
      "RealTimeBar(time=datetime.datetime(2024, 7, 31, 21, 31, 10, tzinfo=datetime.timezone.utc), endTime=-1, open_=1.082735, high=1.082735, low=1.08272, close=1.082735, volume=-1.0, wap=-1.0, count=-1)\n",
      "RealTimeBar(time=datetime.datetime(2024, 7, 31, 21, 31, 10, tzinfo=datetime.timezone.utc), endTime=-1, open_=1.082735, high=1.082735, low=1.08272, close=1.082735, volume=-1.0, wap=-1.0, count=-1)\n",
      "RealTimeBar(time=datetime.datetime(2024, 7, 31, 21, 31, 15, tzinfo=datetime.timezone.utc), endTime=-1, open_=1.082735, high=1.082735, low=1.082735, close=1.082735, volume=-1.0, wap=-1.0, count=-1)\n",
      "RealTimeBar(time=datetime.datetime(2024, 7, 31, 21, 31, 15, tzinfo=datetime.timezone.utc), endTime=-1, open_=1.082735, high=1.082735, low=1.082735, close=1.082735, volume=-1.0, wap=-1.0, count=-1)\n",
      "RealTimeBar(time=datetime.datetime(2024, 7, 31, 21, 31, 15, tzinfo=datetime.timezone.utc), endTime=-1, open_=1.082735, high=1.082735, low=1.082735, close=1.082735, volume=-1.0, wap=-1.0, count=-1)\n",
      "RealTimeBar(time=datetime.datetime(2024, 7, 31, 21, 31, 20, tzinfo=datetime.timezone.utc), endTime=-1, open_=1.082735, high=1.082735, low=1.082735, close=1.082735, volume=-1.0, wap=-1.0, count=-1)\n",
      "RealTimeBar(time=datetime.datetime(2024, 7, 31, 21, 31, 20, tzinfo=datetime.timezone.utc), endTime=-1, open_=1.082735, high=1.082735, low=1.082735, close=1.082735, volume=-1.0, wap=-1.0, count=-1)\n",
      "RealTimeBar(time=datetime.datetime(2024, 7, 31, 21, 31, 20, tzinfo=datetime.timezone.utc), endTime=-1, open_=1.082735, high=1.082735, low=1.082735, close=1.082735, volume=-1.0, wap=-1.0, count=-1)\n",
      "RealTimeBar(time=datetime.datetime(2024, 7, 31, 21, 31, 25, tzinfo=datetime.timezone.utc), endTime=-1, open_=1.082735, high=1.082735, low=1.082735, close=1.082735, volume=-1.0, wap=-1.0, count=-1)\n",
      "RealTimeBar(time=datetime.datetime(2024, 7, 31, 21, 31, 25, tzinfo=datetime.timezone.utc), endTime=-1, open_=1.082735, high=1.082735, low=1.082735, close=1.082735, volume=-1.0, wap=-1.0, count=-1)\n",
      "RealTimeBar(time=datetime.datetime(2024, 7, 31, 21, 31, 25, tzinfo=datetime.timezone.utc), endTime=-1, open_=1.082735, high=1.082735, low=1.082735, close=1.082735, volume=-1.0, wap=-1.0, count=-1)\n",
      "RealTimeBar(time=datetime.datetime(2024, 7, 31, 21, 31, 30, tzinfo=datetime.timezone.utc), endTime=-1, open_=1.082735, high=1.082735, low=1.082735, close=1.082735, volume=-1.0, wap=-1.0, count=-1)\n",
      "RealTimeBar(time=datetime.datetime(2024, 7, 31, 21, 31, 30, tzinfo=datetime.timezone.utc), endTime=-1, open_=1.082735, high=1.082735, low=1.082735, close=1.082735, volume=-1.0, wap=-1.0, count=-1)\n",
      "RealTimeBar(time=datetime.datetime(2024, 7, 31, 21, 31, 30, tzinfo=datetime.timezone.utc), endTime=-1, open_=1.082735, high=1.082735, low=1.082735, close=1.082735, volume=-1.0, wap=-1.0, count=-1)\n",
      "RealTimeBar(time=datetime.datetime(2024, 7, 31, 21, 31, 35, tzinfo=datetime.timezone.utc), endTime=-1, open_=1.082735, high=1.082735, low=1.082735, close=1.082735, volume=-1.0, wap=-1.0, count=-1)\n",
      "RealTimeBar(time=datetime.datetime(2024, 7, 31, 21, 31, 35, tzinfo=datetime.timezone.utc), endTime=-1, open_=1.082735, high=1.082735, low=1.082735, close=1.082735, volume=-1.0, wap=-1.0, count=-1)\n",
      "RealTimeBar(time=datetime.datetime(2024, 7, 31, 21, 31, 35, tzinfo=datetime.timezone.utc), endTime=-1, open_=1.082735, high=1.082735, low=1.082735, close=1.082735, volume=-1.0, wap=-1.0, count=-1)\n",
      "RealTimeBar(time=datetime.datetime(2024, 7, 31, 21, 31, 40, tzinfo=datetime.timezone.utc), endTime=-1, open_=1.082735, high=1.082735, low=1.082735, close=1.082735, volume=-1.0, wap=-1.0, count=-1)\n",
      "RealTimeBar(time=datetime.datetime(2024, 7, 31, 21, 31, 40, tzinfo=datetime.timezone.utc), endTime=-1, open_=1.082735, high=1.082735, low=1.082735, close=1.082735, volume=-1.0, wap=-1.0, count=-1)\n",
      "RealTimeBar(time=datetime.datetime(2024, 7, 31, 21, 31, 40, tzinfo=datetime.timezone.utc), endTime=-1, open_=1.082735, high=1.082735, low=1.082735, close=1.082735, volume=-1.0, wap=-1.0, count=-1)\n",
      "RealTimeBar(time=datetime.datetime(2024, 7, 31, 21, 31, 45, tzinfo=datetime.timezone.utc), endTime=-1, open_=1.082735, high=1.082735, low=1.082735, close=1.082735, volume=-1.0, wap=-1.0, count=-1)\n",
      "RealTimeBar(time=datetime.datetime(2024, 7, 31, 21, 31, 45, tzinfo=datetime.timezone.utc), endTime=-1, open_=1.082735, high=1.082735, low=1.082735, close=1.082735, volume=-1.0, wap=-1.0, count=-1)\n",
      "RealTimeBar(time=datetime.datetime(2024, 7, 31, 21, 31, 45, tzinfo=datetime.timezone.utc), endTime=-1, open_=1.082735, high=1.082735, low=1.082735, close=1.082735, volume=-1.0, wap=-1.0, count=-1)\n",
      "RealTimeBar(time=datetime.datetime(2024, 7, 31, 21, 31, 50, tzinfo=datetime.timezone.utc), endTime=-1, open_=1.082735, high=1.082735, low=1.082735, close=1.082735, volume=-1.0, wap=-1.0, count=-1)\n",
      "RealTimeBar(time=datetime.datetime(2024, 7, 31, 21, 31, 50, tzinfo=datetime.timezone.utc), endTime=-1, open_=1.082735, high=1.082735, low=1.082735, close=1.082735, volume=-1.0, wap=-1.0, count=-1)\n",
      "RealTimeBar(time=datetime.datetime(2024, 7, 31, 21, 31, 50, tzinfo=datetime.timezone.utc), endTime=-1, open_=1.082735, high=1.082735, low=1.082735, close=1.082735, volume=-1.0, wap=-1.0, count=-1)\n",
      "RealTimeBar(time=datetime.datetime(2024, 7, 31, 21, 31, 55, tzinfo=datetime.timezone.utc), endTime=-1, open_=1.082735, high=1.082735, low=1.082735, close=1.082735, volume=-1.0, wap=-1.0, count=-1)\n",
      "RealTimeBar(time=datetime.datetime(2024, 7, 31, 21, 31, 55, tzinfo=datetime.timezone.utc), endTime=-1, open_=1.082735, high=1.082735, low=1.082735, close=1.082735, volume=-1.0, wap=-1.0, count=-1)\n",
      "RealTimeBar(time=datetime.datetime(2024, 7, 31, 21, 31, 55, tzinfo=datetime.timezone.utc), endTime=-1, open_=1.082735, high=1.082735, low=1.082735, close=1.082735, volume=-1.0, wap=-1.0, count=-1)\n",
      "RealTimeBar(time=datetime.datetime(2024, 7, 31, 21, 32, tzinfo=datetime.timezone.utc), endTime=-1, open_=1.082735, high=1.082735, low=1.082735, close=1.082735, volume=-1.0, wap=-1.0, count=-1)\n",
      "RealTimeBar(time=datetime.datetime(2024, 7, 31, 21, 32, tzinfo=datetime.timezone.utc), endTime=-1, open_=1.082735, high=1.082735, low=1.082735, close=1.082735, volume=-1.0, wap=-1.0, count=-1)\n",
      "RealTimeBar(time=datetime.datetime(2024, 7, 31, 21, 32, tzinfo=datetime.timezone.utc), endTime=-1, open_=1.082735, high=1.082735, low=1.082735, close=1.082735, volume=-1.0, wap=-1.0, count=-1)\n",
      "RealTimeBar(time=datetime.datetime(2024, 7, 31, 21, 32, 5, tzinfo=datetime.timezone.utc), endTime=-1, open_=1.082735, high=1.082735, low=1.08272, close=1.08272, volume=-1.0, wap=-1.0, count=-1)\n",
      "RealTimeBar(time=datetime.datetime(2024, 7, 31, 21, 32, 5, tzinfo=datetime.timezone.utc), endTime=-1, open_=1.082735, high=1.082735, low=1.08272, close=1.08272, volume=-1.0, wap=-1.0, count=-1)\n",
      "RealTimeBar(time=datetime.datetime(2024, 7, 31, 21, 32, 5, tzinfo=datetime.timezone.utc), endTime=-1, open_=1.082735, high=1.082735, low=1.08272, close=1.08272, volume=-1.0, wap=-1.0, count=-1)\n",
      "RealTimeBar(time=datetime.datetime(2024, 7, 31, 21, 32, 10, tzinfo=datetime.timezone.utc), endTime=-1, open_=1.08272, high=1.08272, low=1.08272, close=1.08272, volume=-1.0, wap=-1.0, count=-1)\n",
      "RealTimeBar(time=datetime.datetime(2024, 7, 31, 21, 32, 10, tzinfo=datetime.timezone.utc), endTime=-1, open_=1.08272, high=1.08272, low=1.08272, close=1.08272, volume=-1.0, wap=-1.0, count=-1)\n",
      "RealTimeBar(time=datetime.datetime(2024, 7, 31, 21, 32, 10, tzinfo=datetime.timezone.utc), endTime=-1, open_=1.08272, high=1.08272, low=1.08272, close=1.08272, volume=-1.0, wap=-1.0, count=-1)\n",
      "RealTimeBar(time=datetime.datetime(2024, 7, 31, 21, 32, 15, tzinfo=datetime.timezone.utc), endTime=-1, open_=1.08272, high=1.08272, low=1.08272, close=1.08272, volume=-1.0, wap=-1.0, count=-1)\n",
      "RealTimeBar(time=datetime.datetime(2024, 7, 31, 21, 32, 15, tzinfo=datetime.timezone.utc), endTime=-1, open_=1.08272, high=1.08272, low=1.08272, close=1.08272, volume=-1.0, wap=-1.0, count=-1)\n",
      "RealTimeBar(time=datetime.datetime(2024, 7, 31, 21, 32, 15, tzinfo=datetime.timezone.utc), endTime=-1, open_=1.08272, high=1.08272, low=1.08272, close=1.08272, volume=-1.0, wap=-1.0, count=-1)\n",
      "RealTimeBar(time=datetime.datetime(2024, 7, 31, 21, 32, 20, tzinfo=datetime.timezone.utc), endTime=-1, open_=1.08272, high=1.08273, low=1.08272, close=1.08273, volume=-1.0, wap=-1.0, count=-1)\n",
      "RealTimeBar(time=datetime.datetime(2024, 7, 31, 21, 32, 20, tzinfo=datetime.timezone.utc), endTime=-1, open_=1.08272, high=1.08273, low=1.08272, close=1.08273, volume=-1.0, wap=-1.0, count=-1)\n",
      "RealTimeBar(time=datetime.datetime(2024, 7, 31, 21, 32, 20, tzinfo=datetime.timezone.utc), endTime=-1, open_=1.08272, high=1.08273, low=1.08272, close=1.08273, volume=-1.0, wap=-1.0, count=-1)\n",
      "RealTimeBar(time=datetime.datetime(2024, 7, 31, 21, 32, 25, tzinfo=datetime.timezone.utc), endTime=-1, open_=1.08273, high=1.08273, low=1.08273, close=1.08273, volume=-1.0, wap=-1.0, count=-1)\n",
      "RealTimeBar(time=datetime.datetime(2024, 7, 31, 21, 32, 25, tzinfo=datetime.timezone.utc), endTime=-1, open_=1.08273, high=1.08273, low=1.08273, close=1.08273, volume=-1.0, wap=-1.0, count=-1)\n",
      "RealTimeBar(time=datetime.datetime(2024, 7, 31, 21, 32, 25, tzinfo=datetime.timezone.utc), endTime=-1, open_=1.08273, high=1.08273, low=1.08273, close=1.08273, volume=-1.0, wap=-1.0, count=-1)\n",
      "RealTimeBar(time=datetime.datetime(2024, 7, 31, 21, 32, 30, tzinfo=datetime.timezone.utc), endTime=-1, open_=1.08273, high=1.08273, low=1.08273, close=1.08273, volume=-1.0, wap=-1.0, count=-1)\n",
      "RealTimeBar(time=datetime.datetime(2024, 7, 31, 21, 32, 30, tzinfo=datetime.timezone.utc), endTime=-1, open_=1.08273, high=1.08273, low=1.08273, close=1.08273, volume=-1.0, wap=-1.0, count=-1)\n",
      "RealTimeBar(time=datetime.datetime(2024, 7, 31, 21, 32, 30, tzinfo=datetime.timezone.utc), endTime=-1, open_=1.08273, high=1.08273, low=1.08273, close=1.08273, volume=-1.0, wap=-1.0, count=-1)\n",
      "RealTimeBar(time=datetime.datetime(2024, 7, 31, 21, 32, 35, tzinfo=datetime.timezone.utc), endTime=-1, open_=1.08273, high=1.08273, low=1.082725, close=1.082725, volume=-1.0, wap=-1.0, count=-1)\n",
      "RealTimeBar(time=datetime.datetime(2024, 7, 31, 21, 32, 35, tzinfo=datetime.timezone.utc), endTime=-1, open_=1.08273, high=1.08273, low=1.082725, close=1.082725, volume=-1.0, wap=-1.0, count=-1)\n",
      "RealTimeBar(time=datetime.datetime(2024, 7, 31, 21, 32, 35, tzinfo=datetime.timezone.utc), endTime=-1, open_=1.08273, high=1.08273, low=1.082725, close=1.082725, volume=-1.0, wap=-1.0, count=-1)\n",
      "RealTimeBar(time=datetime.datetime(2024, 7, 31, 21, 32, 40, tzinfo=datetime.timezone.utc), endTime=-1, open_=1.082725, high=1.082725, low=1.082725, close=1.082725, volume=-1.0, wap=-1.0, count=-1)\n",
      "RealTimeBar(time=datetime.datetime(2024, 7, 31, 21, 32, 40, tzinfo=datetime.timezone.utc), endTime=-1, open_=1.082725, high=1.082725, low=1.082725, close=1.082725, volume=-1.0, wap=-1.0, count=-1)\n",
      "RealTimeBar(time=datetime.datetime(2024, 7, 31, 21, 32, 40, tzinfo=datetime.timezone.utc), endTime=-1, open_=1.082725, high=1.082725, low=1.082725, close=1.082725, volume=-1.0, wap=-1.0, count=-1)\n",
      "RealTimeBar(time=datetime.datetime(2024, 7, 31, 21, 32, 45, tzinfo=datetime.timezone.utc), endTime=-1, open_=1.082725, high=1.082725, low=1.082725, close=1.082725, volume=-1.0, wap=-1.0, count=-1)\n",
      "RealTimeBar(time=datetime.datetime(2024, 7, 31, 21, 32, 45, tzinfo=datetime.timezone.utc), endTime=-1, open_=1.082725, high=1.082725, low=1.082725, close=1.082725, volume=-1.0, wap=-1.0, count=-1)\n",
      "RealTimeBar(time=datetime.datetime(2024, 7, 31, 21, 32, 45, tzinfo=datetime.timezone.utc), endTime=-1, open_=1.082725, high=1.082725, low=1.082725, close=1.082725, volume=-1.0, wap=-1.0, count=-1)\n",
      "RealTimeBar(time=datetime.datetime(2024, 7, 31, 21, 32, 50, tzinfo=datetime.timezone.utc), endTime=-1, open_=1.082725, high=1.082725, low=1.082725, close=1.082725, volume=-1.0, wap=-1.0, count=-1)\n",
      "RealTimeBar(time=datetime.datetime(2024, 7, 31, 21, 32, 50, tzinfo=datetime.timezone.utc), endTime=-1, open_=1.082725, high=1.082725, low=1.082725, close=1.082725, volume=-1.0, wap=-1.0, count=-1)\n",
      "RealTimeBar(time=datetime.datetime(2024, 7, 31, 21, 32, 50, tzinfo=datetime.timezone.utc), endTime=-1, open_=1.082725, high=1.082725, low=1.082725, close=1.082725, volume=-1.0, wap=-1.0, count=-1)\n",
      "RealTimeBar(time=datetime.datetime(2024, 7, 31, 21, 32, 55, tzinfo=datetime.timezone.utc), endTime=-1, open_=1.082725, high=1.082725, low=1.082725, close=1.082725, volume=-1.0, wap=-1.0, count=-1)\n",
      "RealTimeBar(time=datetime.datetime(2024, 7, 31, 21, 32, 55, tzinfo=datetime.timezone.utc), endTime=-1, open_=1.082725, high=1.082725, low=1.082725, close=1.082725, volume=-1.0, wap=-1.0, count=-1)\n",
      "RealTimeBar(time=datetime.datetime(2024, 7, 31, 21, 32, 55, tzinfo=datetime.timezone.utc), endTime=-1, open_=1.082725, high=1.082725, low=1.082725, close=1.082725, volume=-1.0, wap=-1.0, count=-1)\n",
      "RealTimeBar(time=datetime.datetime(2024, 7, 31, 21, 33, tzinfo=datetime.timezone.utc), endTime=-1, open_=1.082725, high=1.082725, low=1.082725, close=1.082725, volume=-1.0, wap=-1.0, count=-1)\n",
      "RealTimeBar(time=datetime.datetime(2024, 7, 31, 21, 33, tzinfo=datetime.timezone.utc), endTime=-1, open_=1.082725, high=1.082725, low=1.082725, close=1.082725, volume=-1.0, wap=-1.0, count=-1)\n",
      "RealTimeBar(time=datetime.datetime(2024, 7, 31, 21, 33, tzinfo=datetime.timezone.utc), endTime=-1, open_=1.082725, high=1.082725, low=1.082725, close=1.082725, volume=-1.0, wap=-1.0, count=-1)\n",
      "RealTimeBar(time=datetime.datetime(2024, 7, 31, 21, 33, 5, tzinfo=datetime.timezone.utc), endTime=-1, open_=1.082725, high=1.082725, low=1.082725, close=1.082725, volume=-1.0, wap=-1.0, count=-1)\n",
      "RealTimeBar(time=datetime.datetime(2024, 7, 31, 21, 33, 5, tzinfo=datetime.timezone.utc), endTime=-1, open_=1.082725, high=1.082725, low=1.082725, close=1.082725, volume=-1.0, wap=-1.0, count=-1)\n",
      "RealTimeBar(time=datetime.datetime(2024, 7, 31, 21, 33, 5, tzinfo=datetime.timezone.utc), endTime=-1, open_=1.082725, high=1.082725, low=1.082725, close=1.082725, volume=-1.0, wap=-1.0, count=-1)\n",
      "RealTimeBar(time=datetime.datetime(2024, 7, 31, 21, 33, 10, tzinfo=datetime.timezone.utc), endTime=-1, open_=1.082725, high=1.082725, low=1.082725, close=1.082725, volume=-1.0, wap=-1.0, count=-1)\n",
      "RealTimeBar(time=datetime.datetime(2024, 7, 31, 21, 33, 10, tzinfo=datetime.timezone.utc), endTime=-1, open_=1.082725, high=1.082725, low=1.082725, close=1.082725, volume=-1.0, wap=-1.0, count=-1)\n",
      "RealTimeBar(time=datetime.datetime(2024, 7, 31, 21, 33, 10, tzinfo=datetime.timezone.utc), endTime=-1, open_=1.082725, high=1.082725, low=1.082725, close=1.082725, volume=-1.0, wap=-1.0, count=-1)\n",
      "RealTimeBar(time=datetime.datetime(2024, 7, 31, 21, 33, 15, tzinfo=datetime.timezone.utc), endTime=-1, open_=1.082725, high=1.082725, low=1.082725, close=1.082725, volume=-1.0, wap=-1.0, count=-1)\n",
      "RealTimeBar(time=datetime.datetime(2024, 7, 31, 21, 33, 15, tzinfo=datetime.timezone.utc), endTime=-1, open_=1.082725, high=1.082725, low=1.082725, close=1.082725, volume=-1.0, wap=-1.0, count=-1)\n",
      "RealTimeBar(time=datetime.datetime(2024, 7, 31, 21, 33, 15, tzinfo=datetime.timezone.utc), endTime=-1, open_=1.082725, high=1.082725, low=1.082725, close=1.082725, volume=-1.0, wap=-1.0, count=-1)\n",
      "RealTimeBar(time=datetime.datetime(2024, 7, 31, 21, 33, 20, tzinfo=datetime.timezone.utc), endTime=-1, open_=1.082725, high=1.082725, low=1.082725, close=1.082725, volume=-1.0, wap=-1.0, count=-1)\n",
      "RealTimeBar(time=datetime.datetime(2024, 7, 31, 21, 33, 20, tzinfo=datetime.timezone.utc), endTime=-1, open_=1.082725, high=1.082725, low=1.082725, close=1.082725, volume=-1.0, wap=-1.0, count=-1)\n",
      "RealTimeBar(time=datetime.datetime(2024, 7, 31, 21, 33, 20, tzinfo=datetime.timezone.utc), endTime=-1, open_=1.082725, high=1.082725, low=1.082725, close=1.082725, volume=-1.0, wap=-1.0, count=-1)\n",
      "RealTimeBar(time=datetime.datetime(2024, 7, 31, 21, 33, 25, tzinfo=datetime.timezone.utc), endTime=-1, open_=1.082725, high=1.082725, low=1.082725, close=1.082725, volume=-1.0, wap=-1.0, count=-1)\n",
      "RealTimeBar(time=datetime.datetime(2024, 7, 31, 21, 33, 25, tzinfo=datetime.timezone.utc), endTime=-1, open_=1.082725, high=1.082725, low=1.082725, close=1.082725, volume=-1.0, wap=-1.0, count=-1)\n",
      "RealTimeBar(time=datetime.datetime(2024, 7, 31, 21, 33, 25, tzinfo=datetime.timezone.utc), endTime=-1, open_=1.082725, high=1.082725, low=1.082725, close=1.082725, volume=-1.0, wap=-1.0, count=-1)\n",
      "RealTimeBar(time=datetime.datetime(2024, 7, 31, 21, 33, 30, tzinfo=datetime.timezone.utc), endTime=-1, open_=1.082725, high=1.082725, low=1.082725, close=1.082725, volume=-1.0, wap=-1.0, count=-1)\n",
      "RealTimeBar(time=datetime.datetime(2024, 7, 31, 21, 33, 30, tzinfo=datetime.timezone.utc), endTime=-1, open_=1.082725, high=1.082725, low=1.082725, close=1.082725, volume=-1.0, wap=-1.0, count=-1)\n",
      "RealTimeBar(time=datetime.datetime(2024, 7, 31, 21, 33, 30, tzinfo=datetime.timezone.utc), endTime=-1, open_=1.082725, high=1.082725, low=1.082725, close=1.082725, volume=-1.0, wap=-1.0, count=-1)\n",
      "RealTimeBar(time=datetime.datetime(2024, 7, 31, 21, 33, 35, tzinfo=datetime.timezone.utc), endTime=-1, open_=1.082725, high=1.082725, low=1.082725, close=1.082725, volume=-1.0, wap=-1.0, count=-1)\n",
      "RealTimeBar(time=datetime.datetime(2024, 7, 31, 21, 33, 35, tzinfo=datetime.timezone.utc), endTime=-1, open_=1.082725, high=1.082725, low=1.082725, close=1.082725, volume=-1.0, wap=-1.0, count=-1)\n",
      "RealTimeBar(time=datetime.datetime(2024, 7, 31, 21, 33, 35, tzinfo=datetime.timezone.utc), endTime=-1, open_=1.082725, high=1.082725, low=1.082725, close=1.082725, volume=-1.0, wap=-1.0, count=-1)\n",
      "RealTimeBar(time=datetime.datetime(2024, 7, 31, 21, 33, 40, tzinfo=datetime.timezone.utc), endTime=-1, open_=1.082725, high=1.082725, low=1.08272, close=1.08272, volume=-1.0, wap=-1.0, count=-1)\n",
      "RealTimeBar(time=datetime.datetime(2024, 7, 31, 21, 33, 40, tzinfo=datetime.timezone.utc), endTime=-1, open_=1.082725, high=1.082725, low=1.08272, close=1.08272, volume=-1.0, wap=-1.0, count=-1)\n",
      "RealTimeBar(time=datetime.datetime(2024, 7, 31, 21, 33, 40, tzinfo=datetime.timezone.utc), endTime=-1, open_=1.082725, high=1.082725, low=1.08272, close=1.08272, volume=-1.0, wap=-1.0, count=-1)\n",
      "RealTimeBar(time=datetime.datetime(2024, 7, 31, 21, 33, 45, tzinfo=datetime.timezone.utc), endTime=-1, open_=1.08272, high=1.08272, low=1.08272, close=1.08272, volume=-1.0, wap=-1.0, count=-1)\n",
      "RealTimeBar(time=datetime.datetime(2024, 7, 31, 21, 33, 45, tzinfo=datetime.timezone.utc), endTime=-1, open_=1.08272, high=1.08272, low=1.08272, close=1.08272, volume=-1.0, wap=-1.0, count=-1)\n",
      "RealTimeBar(time=datetime.datetime(2024, 7, 31, 21, 33, 45, tzinfo=datetime.timezone.utc), endTime=-1, open_=1.08272, high=1.08272, low=1.08272, close=1.08272, volume=-1.0, wap=-1.0, count=-1)\n",
      "RealTimeBar(time=datetime.datetime(2024, 7, 31, 21, 33, 50, tzinfo=datetime.timezone.utc), endTime=-1, open_=1.08272, high=1.08272, low=1.08272, close=1.08272, volume=-1.0, wap=-1.0, count=-1)\n",
      "RealTimeBar(time=datetime.datetime(2024, 7, 31, 21, 33, 50, tzinfo=datetime.timezone.utc), endTime=-1, open_=1.08272, high=1.08272, low=1.08272, close=1.08272, volume=-1.0, wap=-1.0, count=-1)\n",
      "RealTimeBar(time=datetime.datetime(2024, 7, 31, 21, 33, 50, tzinfo=datetime.timezone.utc), endTime=-1, open_=1.08272, high=1.08272, low=1.08272, close=1.08272, volume=-1.0, wap=-1.0, count=-1)\n",
      "RealTimeBar(time=datetime.datetime(2024, 7, 31, 21, 33, 55, tzinfo=datetime.timezone.utc), endTime=-1, open_=1.08272, high=1.08272, low=1.08272, close=1.08272, volume=-1.0, wap=-1.0, count=-1)\n",
      "RealTimeBar(time=datetime.datetime(2024, 7, 31, 21, 33, 55, tzinfo=datetime.timezone.utc), endTime=-1, open_=1.08272, high=1.08272, low=1.08272, close=1.08272, volume=-1.0, wap=-1.0, count=-1)\n",
      "RealTimeBar(time=datetime.datetime(2024, 7, 31, 21, 33, 55, tzinfo=datetime.timezone.utc), endTime=-1, open_=1.08272, high=1.08272, low=1.08272, close=1.08272, volume=-1.0, wap=-1.0, count=-1)\n",
      "RealTimeBar(time=datetime.datetime(2024, 7, 31, 21, 34, tzinfo=datetime.timezone.utc), endTime=-1, open_=1.08272, high=1.08272, low=1.08272, close=1.08272, volume=-1.0, wap=-1.0, count=-1)\n",
      "RealTimeBar(time=datetime.datetime(2024, 7, 31, 21, 34, tzinfo=datetime.timezone.utc), endTime=-1, open_=1.08272, high=1.08272, low=1.08272, close=1.08272, volume=-1.0, wap=-1.0, count=-1)\n",
      "RealTimeBar(time=datetime.datetime(2024, 7, 31, 21, 34, tzinfo=datetime.timezone.utc), endTime=-1, open_=1.08272, high=1.08272, low=1.08272, close=1.08272, volume=-1.0, wap=-1.0, count=-1)\n",
      "RealTimeBar(time=datetime.datetime(2024, 7, 31, 21, 34, 5, tzinfo=datetime.timezone.utc), endTime=-1, open_=1.08272, high=1.08272, low=1.08272, close=1.08272, volume=-1.0, wap=-1.0, count=-1)\n",
      "RealTimeBar(time=datetime.datetime(2024, 7, 31, 21, 34, 5, tzinfo=datetime.timezone.utc), endTime=-1, open_=1.08272, high=1.08272, low=1.08272, close=1.08272, volume=-1.0, wap=-1.0, count=-1)\n",
      "RealTimeBar(time=datetime.datetime(2024, 7, 31, 21, 34, 5, tzinfo=datetime.timezone.utc), endTime=-1, open_=1.08272, high=1.08272, low=1.08272, close=1.08272, volume=-1.0, wap=-1.0, count=-1)\n",
      "RealTimeBar(time=datetime.datetime(2024, 7, 31, 21, 34, 10, tzinfo=datetime.timezone.utc), endTime=-1, open_=1.08272, high=1.08272, low=1.08272, close=1.08272, volume=-1.0, wap=-1.0, count=-1)\n",
      "RealTimeBar(time=datetime.datetime(2024, 7, 31, 21, 34, 10, tzinfo=datetime.timezone.utc), endTime=-1, open_=1.08272, high=1.08272, low=1.08272, close=1.08272, volume=-1.0, wap=-1.0, count=-1)\n",
      "RealTimeBar(time=datetime.datetime(2024, 7, 31, 21, 34, 10, tzinfo=datetime.timezone.utc), endTime=-1, open_=1.08272, high=1.08272, low=1.08272, close=1.08272, volume=-1.0, wap=-1.0, count=-1)\n",
      "RealTimeBar(time=datetime.datetime(2024, 7, 31, 21, 34, 15, tzinfo=datetime.timezone.utc), endTime=-1, open_=1.08272, high=1.08272, low=1.08272, close=1.08272, volume=-1.0, wap=-1.0, count=-1)\n",
      "RealTimeBar(time=datetime.datetime(2024, 7, 31, 21, 34, 15, tzinfo=datetime.timezone.utc), endTime=-1, open_=1.08272, high=1.08272, low=1.08272, close=1.08272, volume=-1.0, wap=-1.0, count=-1)\n",
      "RealTimeBar(time=datetime.datetime(2024, 7, 31, 21, 34, 15, tzinfo=datetime.timezone.utc), endTime=-1, open_=1.08272, high=1.08272, low=1.08272, close=1.08272, volume=-1.0, wap=-1.0, count=-1)\n",
      "RealTimeBar(time=datetime.datetime(2024, 7, 31, 21, 34, 20, tzinfo=datetime.timezone.utc), endTime=-1, open_=1.08272, high=1.08272, low=1.08272, close=1.08272, volume=-1.0, wap=-1.0, count=-1)\n",
      "RealTimeBar(time=datetime.datetime(2024, 7, 31, 21, 34, 20, tzinfo=datetime.timezone.utc), endTime=-1, open_=1.08272, high=1.08272, low=1.08272, close=1.08272, volume=-1.0, wap=-1.0, count=-1)\n",
      "RealTimeBar(time=datetime.datetime(2024, 7, 31, 21, 34, 20, tzinfo=datetime.timezone.utc), endTime=-1, open_=1.08272, high=1.08272, low=1.08272, close=1.08272, volume=-1.0, wap=-1.0, count=-1)\n",
      "RealTimeBar(time=datetime.datetime(2024, 7, 31, 21, 34, 25, tzinfo=datetime.timezone.utc), endTime=-1, open_=1.08272, high=1.08272, low=1.08272, close=1.08272, volume=-1.0, wap=-1.0, count=-1)\n",
      "RealTimeBar(time=datetime.datetime(2024, 7, 31, 21, 34, 25, tzinfo=datetime.timezone.utc), endTime=-1, open_=1.08272, high=1.08272, low=1.08272, close=1.08272, volume=-1.0, wap=-1.0, count=-1)\n",
      "RealTimeBar(time=datetime.datetime(2024, 7, 31, 21, 34, 25, tzinfo=datetime.timezone.utc), endTime=-1, open_=1.08272, high=1.08272, low=1.08272, close=1.08272, volume=-1.0, wap=-1.0, count=-1)\n",
      "RealTimeBar(time=datetime.datetime(2024, 7, 31, 21, 34, 30, tzinfo=datetime.timezone.utc), endTime=-1, open_=1.08272, high=1.08272, low=1.08272, close=1.08272, volume=-1.0, wap=-1.0, count=-1)\n",
      "RealTimeBar(time=datetime.datetime(2024, 7, 31, 21, 34, 30, tzinfo=datetime.timezone.utc), endTime=-1, open_=1.08272, high=1.08272, low=1.08272, close=1.08272, volume=-1.0, wap=-1.0, count=-1)\n",
      "RealTimeBar(time=datetime.datetime(2024, 7, 31, 21, 34, 30, tzinfo=datetime.timezone.utc), endTime=-1, open_=1.08272, high=1.08272, low=1.08272, close=1.08272, volume=-1.0, wap=-1.0, count=-1)\n",
      "RealTimeBar(time=datetime.datetime(2024, 7, 31, 21, 34, 35, tzinfo=datetime.timezone.utc), endTime=-1, open_=1.08272, high=1.08272, low=1.08272, close=1.08272, volume=-1.0, wap=-1.0, count=-1)\n",
      "RealTimeBar(time=datetime.datetime(2024, 7, 31, 21, 34, 35, tzinfo=datetime.timezone.utc), endTime=-1, open_=1.08272, high=1.08272, low=1.08272, close=1.08272, volume=-1.0, wap=-1.0, count=-1)\n",
      "RealTimeBar(time=datetime.datetime(2024, 7, 31, 21, 34, 35, tzinfo=datetime.timezone.utc), endTime=-1, open_=1.08272, high=1.08272, low=1.08272, close=1.08272, volume=-1.0, wap=-1.0, count=-1)\n",
      "RealTimeBar(time=datetime.datetime(2024, 7, 31, 21, 34, 40, tzinfo=datetime.timezone.utc), endTime=-1, open_=1.08272, high=1.08272, low=1.08272, close=1.08272, volume=-1.0, wap=-1.0, count=-1)\n",
      "RealTimeBar(time=datetime.datetime(2024, 7, 31, 21, 34, 40, tzinfo=datetime.timezone.utc), endTime=-1, open_=1.08272, high=1.08272, low=1.08272, close=1.08272, volume=-1.0, wap=-1.0, count=-1)\n",
      "RealTimeBar(time=datetime.datetime(2024, 7, 31, 21, 34, 40, tzinfo=datetime.timezone.utc), endTime=-1, open_=1.08272, high=1.08272, low=1.08272, close=1.08272, volume=-1.0, wap=-1.0, count=-1)\n",
      "RealTimeBar(time=datetime.datetime(2024, 7, 31, 21, 34, 45, tzinfo=datetime.timezone.utc), endTime=-1, open_=1.08272, high=1.08273, low=1.08272, close=1.08272, volume=-1.0, wap=-1.0, count=-1)\n",
      "RealTimeBar(time=datetime.datetime(2024, 7, 31, 21, 34, 45, tzinfo=datetime.timezone.utc), endTime=-1, open_=1.08272, high=1.08273, low=1.08272, close=1.08272, volume=-1.0, wap=-1.0, count=-1)\n",
      "RealTimeBar(time=datetime.datetime(2024, 7, 31, 21, 34, 45, tzinfo=datetime.timezone.utc), endTime=-1, open_=1.08272, high=1.08273, low=1.08272, close=1.08272, volume=-1.0, wap=-1.0, count=-1)\n",
      "RealTimeBar(time=datetime.datetime(2024, 7, 31, 21, 34, 50, tzinfo=datetime.timezone.utc), endTime=-1, open_=1.08272, high=1.08272, low=1.08272, close=1.08272, volume=-1.0, wap=-1.0, count=-1)\n",
      "RealTimeBar(time=datetime.datetime(2024, 7, 31, 21, 34, 50, tzinfo=datetime.timezone.utc), endTime=-1, open_=1.08272, high=1.08272, low=1.08272, close=1.08272, volume=-1.0, wap=-1.0, count=-1)\n",
      "RealTimeBar(time=datetime.datetime(2024, 7, 31, 21, 34, 50, tzinfo=datetime.timezone.utc), endTime=-1, open_=1.08272, high=1.08272, low=1.08272, close=1.08272, volume=-1.0, wap=-1.0, count=-1)\n",
      "RealTimeBar(time=datetime.datetime(2024, 7, 31, 21, 34, 55, tzinfo=datetime.timezone.utc), endTime=-1, open_=1.08272, high=1.08272, low=1.08272, close=1.08272, volume=-1.0, wap=-1.0, count=-1)\n",
      "RealTimeBar(time=datetime.datetime(2024, 7, 31, 21, 34, 55, tzinfo=datetime.timezone.utc), endTime=-1, open_=1.08272, high=1.08272, low=1.08272, close=1.08272, volume=-1.0, wap=-1.0, count=-1)\n",
      "RealTimeBar(time=datetime.datetime(2024, 7, 31, 21, 34, 55, tzinfo=datetime.timezone.utc), endTime=-1, open_=1.08272, high=1.08272, low=1.08272, close=1.08272, volume=-1.0, wap=-1.0, count=-1)\n",
      "RealTimeBar(time=datetime.datetime(2024, 7, 31, 21, 35, tzinfo=datetime.timezone.utc), endTime=-1, open_=1.08272, high=1.08272, low=1.08272, close=1.08272, volume=-1.0, wap=-1.0, count=-1)\n",
      "RealTimeBar(time=datetime.datetime(2024, 7, 31, 21, 35, tzinfo=datetime.timezone.utc), endTime=-1, open_=1.08272, high=1.08272, low=1.08272, close=1.08272, volume=-1.0, wap=-1.0, count=-1)\n",
      "RealTimeBar(time=datetime.datetime(2024, 7, 31, 21, 35, tzinfo=datetime.timezone.utc), endTime=-1, open_=1.08272, high=1.08272, low=1.08272, close=1.08272, volume=-1.0, wap=-1.0, count=-1)\n"
     ]
    },
    {
     "name": "stderr",
     "output_type": "stream",
     "text": [
      "Peer closed connection.\n"
     ]
    }
   ],
   "source": [
    "from ib_insync import *\n",
    "util.startLoop()\n",
    "\n",
    "ib = IB()\n",
    "ib.connect('127.0.0.1', 4002, clientId=14)"
   ]
  },
  {
   "cell_type": "markdown",
   "metadata": {},
   "source": [
    "## Historical data"
   ]
  },
  {
   "cell_type": "markdown",
   "metadata": {},
   "source": [
    "To get the earliest date of available bar data the \"head timestamp\" can be requested:"
   ]
  },
  {
   "cell_type": "code",
   "execution_count": 17,
   "metadata": {},
   "outputs": [
    {
     "data": {
      "text/plain": [
       "datetime.datetime(1980, 12, 12, 14, 30)"
      ]
     },
     "execution_count": 17,
     "metadata": {},
     "output_type": "execute_result"
    }
   ],
   "source": [
    "contract = Stock(symbol='AAPL', exchange='SMART', primaryExchange='NASDAQ', currency='USD', localSymbol='AAPL', tradingClass='NMS')\n",
    "\n",
    "ib.reqHeadTimeStamp(contract, whatToShow='TRADES', useRTH=True)"
   ]
  },
  {
   "cell_type": "code",
   "execution_count": 3,
   "metadata": {},
   "outputs": [
    {
     "data": {
      "text/plain": [
       "Stock(symbol='AAPL', exchange='SMART', primaryExchange='NASDAQ', currency='USD', localSymbol='AAPL', tradingClass='NMS')"
      ]
     },
     "execution_count": 3,
     "metadata": {},
     "output_type": "execute_result"
    }
   ],
   "source": [
    "contract"
   ]
  },
  {
   "cell_type": "code",
   "execution_count": 4,
   "metadata": {},
   "outputs": [
    {
     "data": {
      "text/plain": [
       "Ticker(contract=Stock(symbol='AAPL', exchange='SMART', primaryExchange='NASDAQ', currency='USD', localSymbol='AAPL', tradingClass='NMS'))"
      ]
     },
     "execution_count": 4,
     "metadata": {},
     "output_type": "execute_result"
    }
   ],
   "source": [
    "ib.reqMktData(contract, '', False, False)"
   ]
  },
  {
   "cell_type": "code",
   "execution_count": 5,
   "metadata": {},
   "outputs": [
    {
     "data": {
      "text/plain": [
       "Ticker(contract=Stock(symbol='AAPL', exchange='SMART', primaryExchange='NASDAQ', currency='USD', localSymbol='AAPL', tradingClass='NMS'))"
      ]
     },
     "execution_count": 5,
     "metadata": {},
     "output_type": "execute_result"
    }
   ],
   "source": [
    "ticker = ib.ticker(contract)\n",
    "ib.sleep(2)\n",
    "\n",
    "ticker"
   ]
  },
  {
   "cell_type": "code",
   "execution_count": 6,
   "metadata": {},
   "outputs": [
    {
     "data": {
      "text/plain": [
       "nan"
      ]
     },
     "execution_count": 6,
     "metadata": {},
     "output_type": "execute_result"
    }
   ],
   "source": [
    "ticker.marketPrice()"
   ]
  },
  {
   "cell_type": "markdown",
   "metadata": {},
   "source": [
    "To request hourly data of the last 60 trading days:"
   ]
  },
  {
   "cell_type": "code",
   "execution_count": 7,
   "metadata": {},
   "outputs": [],
   "source": [
    "bars = ib.reqHistoricalData(\n",
    "        contract,\n",
    "        endDateTime='',\n",
    "        durationStr='60 D',\n",
    "        barSizeSetting='1 hour',\n",
    "        whatToShow='MIDPOINT',\n",
    "        useRTH=True,\n",
    "        formatDate=1)"
   ]
  },
  {
   "cell_type": "code",
   "execution_count": 8,
   "metadata": {},
   "outputs": [
    {
     "ename": "IndexError",
     "evalue": "list index out of range",
     "output_type": "error",
     "traceback": [
      "\u001b[0;31m---------------------------------------------------------------------------\u001b[0m",
      "\u001b[0;31mIndexError\u001b[0m                                Traceback (most recent call last)",
      "Cell \u001b[0;32mIn[8], line 1\u001b[0m\n\u001b[0;32m----> 1\u001b[0m \u001b[43mbars\u001b[49m\u001b[43m[\u001b[49m\u001b[38;5;241;43m0\u001b[39;49m\u001b[43m]\u001b[49m\n",
      "\u001b[0;31mIndexError\u001b[0m: list index out of range"
     ]
    }
   ],
   "source": [
    "bars[0]"
   ]
  },
  {
   "cell_type": "markdown",
   "metadata": {},
   "source": [
    "Convert the list of bars to a data frame and print the first and last rows:"
   ]
  },
  {
   "cell_type": "code",
   "execution_count": 9,
   "metadata": {},
   "outputs": [
    {
     "ename": "AttributeError",
     "evalue": "'NoneType' object has no attribute 'head'",
     "output_type": "error",
     "traceback": [
      "\u001b[0;31m---------------------------------------------------------------------------\u001b[0m",
      "\u001b[0;31mAttributeError\u001b[0m                            Traceback (most recent call last)",
      "Cell \u001b[0;32mIn[9], line 3\u001b[0m\n\u001b[1;32m      1\u001b[0m df \u001b[38;5;241m=\u001b[39m util\u001b[38;5;241m.\u001b[39mdf(bars)\n\u001b[0;32m----> 3\u001b[0m display(\u001b[43mdf\u001b[49m\u001b[38;5;241;43m.\u001b[39;49m\u001b[43mhead\u001b[49m())\n\u001b[1;32m      4\u001b[0m display(df\u001b[38;5;241m.\u001b[39mtail())\n",
      "\u001b[0;31mAttributeError\u001b[0m: 'NoneType' object has no attribute 'head'"
     ]
    }
   ],
   "source": [
    "df = util.df(bars)\n",
    "\n",
    "display(df.head())\n",
    "display(df.tail())"
   ]
  },
  {
   "cell_type": "markdown",
   "metadata": {},
   "source": [
    "Instruct the notebook to draw plot graphics inline:"
   ]
  },
  {
   "cell_type": "code",
   "execution_count": 6,
   "metadata": {},
   "outputs": [],
   "source": [
    "%matplotlib inline"
   ]
  },
  {
   "cell_type": "markdown",
   "metadata": {},
   "source": [
    "Plot the close data"
   ]
  },
  {
   "cell_type": "code",
   "execution_count": 7,
   "metadata": {},
   "outputs": [
    {
     "data": {
      "image/png": "[encoded data removed]",
      "text/plain": [
       "<Figure size 432x288 with 1 Axes>"
      ]
     },
     "metadata": {
      "needs_background": "light"
     },
     "output_type": "display_data"
    }
   ],
   "source": [
    "df.plot(y='close');"
   ]
  },
  {
   "cell_type": "markdown",
   "metadata": {},
   "source": [
    "There is also a utility function to plot bars as a candlestick plot. It can accept either a DataFrame or a list of bars. Here it will print the last 100 bars:"
   ]
  },
  {
   "cell_type": "code",
   "execution_count": 8,
   "metadata": {
    "scrolled": true
   },
   "outputs": [
    {
     "data": {
      "image/png": "[encoded data removed]",
      "text/plain": [
       "<Figure size 720x432 with 1 Axes>"
      ]
     },
     "metadata": {
      "needs_background": "light"
     },
     "output_type": "display_data"
    }
   ],
   "source": [
    "util.barplot(bars[-100:], title=contract.symbol);"
   ]
  },
  {
   "cell_type": "markdown",
   "metadata": {},
   "source": [
    "## Historical data with realtime updates\n",
    "\n",
    "A new feature of the API is to get live updates for historical bars. This is done by setting `endDateTime` to an empty string and the `keepUpToDate` parameter to `True`.\n",
    "\n",
    "Let's get some bars with an keepUpToDate subscription:"
   ]
  },
  {
   "cell_type": "code",
   "execution_count": 20,
   "metadata": {},
   "outputs": [],
   "source": [
    "contract = Forex('EURUSD')\n",
    "\n",
    "bars = ib.reqHistoricalData(\n",
    "        contract,\n",
    "        endDateTime='',\n",
    "        durationStr='900 S',\n",
    "        barSizeSetting='10 secs',\n",
    "        whatToShow='MIDPOINT',\n",
    "        useRTH=True,\n",
    "        formatDate=1,\n",
    "        keepUpToDate=True)"
   ]
  },
  {
   "cell_type": "markdown",
   "metadata": {},
   "source": [
    "Replot for every change of the last bar:"
   ]
  },
  {
   "cell_type": "code",
   "execution_count": 11,
   "metadata": {
    "scrolled": true
   },
   "outputs": [
    {
     "data": {
      "image/png": "[encoded data removed]",
      "text/plain": [
       "<Figure size 1000x600 with 1 Axes>"
      ]
     },
     "metadata": {},
     "output_type": "display_data"
    },
    {
     "data": {
      "image/png": "[encoded data removed]",
      "text/plain": [
       "<Figure size 1000x600 with 1 Axes>"
      ]
     },
     "metadata": {},
     "output_type": "display_data"
    }
   ],
   "source": [
    "from IPython.display import display, clear_output\n",
    "import matplotlib.pyplot as plt\n",
    "\n",
    "def onBarUpdate(bars, hasNewBar):\n",
    "    plt.close()\n",
    "    plot = util.barplot(bars)\n",
    "    clear_output(wait=True)\n",
    "    display(plot)\n",
    "\n",
    "bars.updateEvent += onBarUpdate\n",
    "\n",
    "ib.sleep(10)\n",
    "ib.cancelHistoricalData(bars)"
   ]
  },
  {
   "cell_type": "markdown",
   "metadata": {},
   "source": [
    "Realtime bars\n",
    "------------------\n",
    "\n",
    "With ``reqRealTimeBars`` a subscription is started that sends a new bar every 5 seconds.\n",
    "\n",
    "First we'll set up a event handler for bar updates:"
   ]
  },
  {
   "cell_type": "code",
   "execution_count": 21,
   "metadata": {},
   "outputs": [],
   "source": [
    "def onBarUpdate(bars, hasNewBar):\n",
    "    print(bars[-1])"
   ]
  },
  {
   "cell_type": "markdown",
   "metadata": {},
   "source": [
    "Then do the real request and connect the event handler,"
   ]
  },
  {
   "cell_type": "code",
   "execution_count": 22,
   "metadata": {},
   "outputs": [],
   "source": [
    "bars = ib.reqRealTimeBars(contract, 5, 'MIDPOINT', False)\n",
    "bars.updateEvent += onBarUpdate"
   ]
  },
  {
   "cell_type": "code",
   "execution_count": 23,
   "metadata": {},
   "outputs": [
    {
     "data": {
      "text/plain": [
       "[RealTimeBar(time=datetime.datetime(2024, 7, 31, 21, 30, 20, tzinfo=datetime.timezone.utc), endTime=-1, open_=1.082735, high=1.082735, low=1.082735, close=1.082735, volume=-1.0, wap=-1.0, count=-1)]"
      ]
     },
     "execution_count": 23,
     "metadata": {},
     "output_type": "execute_result"
    }
   ],
   "source": [
    "bars"
   ]
  },
  {
   "cell_type": "markdown",
   "metadata": {},
   "source": [
    "let it run for half a minute and then cancel the realtime bars."
   ]
  },
  {
   "cell_type": "code",
   "execution_count": 14,
   "metadata": {},
   "outputs": [
    {
     "ename": "KeyboardInterrupt",
     "evalue": "",
     "output_type": "error",
     "traceback": [
      "\u001b[0;31m---------------------------------------------------------------------------\u001b[0m",
      "\u001b[0;31mKeyboardInterrupt\u001b[0m                         Traceback (most recent call last)",
      "Cell \u001b[0;32mIn[14], line 1\u001b[0m\n\u001b[0;32m----> 1\u001b[0m \u001b[43mib\u001b[49m\u001b[38;5;241;43m.\u001b[39;49m\u001b[43msleep\u001b[49m\u001b[43m(\u001b[49m\u001b[38;5;241;43m30\u001b[39;49m\u001b[43m)\u001b[49m\n\u001b[1;32m      2\u001b[0m ib\u001b[38;5;241m.\u001b[39mcancelRealTimeBars(bars)\n",
      "File \u001b[0;32m~/miniconda3/envs/insync_broker/lib/python3.11/site-packages/ib_insync/util.py:386\u001b[0m, in \u001b[0;36msleep\u001b[0;34m(secs)\u001b[0m\n\u001b[1;32m    378\u001b[0m \u001b[38;5;28;01mdef\u001b[39;00m \u001b[38;5;21msleep\u001b[39m(secs: \u001b[38;5;28mfloat\u001b[39m \u001b[38;5;241m=\u001b[39m \u001b[38;5;241m0.02\u001b[39m) \u001b[38;5;241m-\u001b[39m\u001b[38;5;241m>\u001b[39m \u001b[38;5;28mbool\u001b[39m:\n\u001b[1;32m    379\u001b[0m \u001b[38;5;250m    \u001b[39m\u001b[38;5;124;03m\"\"\"\u001b[39;00m\n\u001b[1;32m    380\u001b[0m \u001b[38;5;124;03m    Wait for the given amount of seconds while everything still keeps\u001b[39;00m\n\u001b[1;32m    381\u001b[0m \u001b[38;5;124;03m    processing in the background. Never use time.sleep().\u001b[39;00m\n\u001b[0;32m   (...)\u001b[0m\n\u001b[1;32m    384\u001b[0m \u001b[38;5;124;03m        secs (float): Time in seconds to wait.\u001b[39;00m\n\u001b[1;32m    385\u001b[0m \u001b[38;5;124;03m    \"\"\"\u001b[39;00m\n\u001b[0;32m--> 386\u001b[0m     \u001b[43mrun\u001b[49m\u001b[43m(\u001b[49m\u001b[43masyncio\u001b[49m\u001b[38;5;241;43m.\u001b[39;49m\u001b[43msleep\u001b[49m\u001b[43m(\u001b[49m\u001b[43msecs\u001b[49m\u001b[43m)\u001b[49m\u001b[43m)\u001b[49m\n\u001b[1;32m    387\u001b[0m     \u001b[38;5;28;01mreturn\u001b[39;00m \u001b[38;5;28;01mTrue\u001b[39;00m\n",
      "File \u001b[0;32m~/miniconda3/envs/insync_broker/lib/python3.11/site-packages/ib_insync/util.py:341\u001b[0m, in \u001b[0;36mrun\u001b[0;34m(timeout, *awaitables)\u001b[0m\n\u001b[1;32m    339\u001b[0m globalErrorEvent\u001b[38;5;241m.\u001b[39mconnect(onError)\n\u001b[1;32m    340\u001b[0m \u001b[38;5;28;01mtry\u001b[39;00m:\n\u001b[0;32m--> 341\u001b[0m     result \u001b[38;5;241m=\u001b[39m \u001b[43mloop\u001b[49m\u001b[38;5;241;43m.\u001b[39;49m\u001b[43mrun_until_complete\u001b[49m\u001b[43m(\u001b[49m\u001b[43mtask\u001b[49m\u001b[43m)\u001b[49m\n\u001b[1;32m    342\u001b[0m \u001b[38;5;28;01mexcept\u001b[39;00m asyncio\u001b[38;5;241m.\u001b[39mCancelledError \u001b[38;5;28;01mas\u001b[39;00m e:\n\u001b[1;32m    343\u001b[0m     \u001b[38;5;28;01mraise\u001b[39;00m globalErrorEvent\u001b[38;5;241m.\u001b[39mvalue() \u001b[38;5;129;01mor\u001b[39;00m e\n",
      "File \u001b[0;32m~/miniconda3/envs/insync_broker/lib/python3.11/site-packages/nest_asyncio.py:92\u001b[0m, in \u001b[0;36m_patch_loop.<locals>.run_until_complete\u001b[0;34m(self, future)\u001b[0m\n\u001b[1;32m     90\u001b[0m     f\u001b[38;5;241m.\u001b[39m_log_destroy_pending \u001b[38;5;241m=\u001b[39m \u001b[38;5;28;01mFalse\u001b[39;00m\n\u001b[1;32m     91\u001b[0m \u001b[38;5;28;01mwhile\u001b[39;00m \u001b[38;5;129;01mnot\u001b[39;00m f\u001b[38;5;241m.\u001b[39mdone():\n\u001b[0;32m---> 92\u001b[0m     \u001b[38;5;28;43mself\u001b[39;49m\u001b[38;5;241;43m.\u001b[39;49m\u001b[43m_run_once\u001b[49m\u001b[43m(\u001b[49m\u001b[43m)\u001b[49m\n\u001b[1;32m     93\u001b[0m     \u001b[38;5;28;01mif\u001b[39;00m \u001b[38;5;28mself\u001b[39m\u001b[38;5;241m.\u001b[39m_stopping:\n\u001b[1;32m     94\u001b[0m         \u001b[38;5;28;01mbreak\u001b[39;00m\n",
      "File \u001b[0;32m~/miniconda3/envs/insync_broker/lib/python3.11/site-packages/nest_asyncio.py:115\u001b[0m, in \u001b[0;36m_patch_loop.<locals>._run_once\u001b[0;34m(self)\u001b[0m\n\u001b[1;32m    108\u001b[0m     heappop(scheduled)\n\u001b[1;32m    110\u001b[0m timeout \u001b[38;5;241m=\u001b[39m (\n\u001b[1;32m    111\u001b[0m     \u001b[38;5;241m0\u001b[39m \u001b[38;5;28;01mif\u001b[39;00m ready \u001b[38;5;129;01mor\u001b[39;00m \u001b[38;5;28mself\u001b[39m\u001b[38;5;241m.\u001b[39m_stopping\n\u001b[1;32m    112\u001b[0m     \u001b[38;5;28;01melse\u001b[39;00m \u001b[38;5;28mmin\u001b[39m(\u001b[38;5;28mmax\u001b[39m(\n\u001b[1;32m    113\u001b[0m         scheduled[\u001b[38;5;241m0\u001b[39m]\u001b[38;5;241m.\u001b[39m_when \u001b[38;5;241m-\u001b[39m \u001b[38;5;28mself\u001b[39m\u001b[38;5;241m.\u001b[39mtime(), \u001b[38;5;241m0\u001b[39m), \u001b[38;5;241m86400\u001b[39m) \u001b[38;5;28;01mif\u001b[39;00m scheduled\n\u001b[1;32m    114\u001b[0m     \u001b[38;5;28;01melse\u001b[39;00m \u001b[38;5;28;01mNone\u001b[39;00m)\n\u001b[0;32m--> 115\u001b[0m event_list \u001b[38;5;241m=\u001b[39m \u001b[38;5;28;43mself\u001b[39;49m\u001b[38;5;241;43m.\u001b[39;49m\u001b[43m_selector\u001b[49m\u001b[38;5;241;43m.\u001b[39;49m\u001b[43mselect\u001b[49m\u001b[43m(\u001b[49m\u001b[43mtimeout\u001b[49m\u001b[43m)\u001b[49m\n\u001b[1;32m    116\u001b[0m \u001b[38;5;28mself\u001b[39m\u001b[38;5;241m.\u001b[39m_process_events(event_list)\n\u001b[1;32m    118\u001b[0m end_time \u001b[38;5;241m=\u001b[39m \u001b[38;5;28mself\u001b[39m\u001b[38;5;241m.\u001b[39mtime() \u001b[38;5;241m+\u001b[39m \u001b[38;5;28mself\u001b[39m\u001b[38;5;241m.\u001b[39m_clock_resolution\n",
      "File \u001b[0;32m~/miniconda3/envs/insync_broker/lib/python3.11/selectors.py:468\u001b[0m, in \u001b[0;36mEpollSelector.select\u001b[0;34m(self, timeout)\u001b[0m\n\u001b[1;32m    466\u001b[0m ready \u001b[38;5;241m=\u001b[39m []\n\u001b[1;32m    467\u001b[0m \u001b[38;5;28;01mtry\u001b[39;00m:\n\u001b[0;32m--> 468\u001b[0m     fd_event_list \u001b[38;5;241m=\u001b[39m \u001b[38;5;28mself\u001b[39m\u001b[38;5;241m.\u001b[39m_selector\u001b[38;5;241m.\u001b[39mpoll(timeout, max_ev)\n\u001b[1;32m    469\u001b[0m \u001b[38;5;28;01mexcept\u001b[39;00m \u001b[38;5;167;01mInterruptedError\u001b[39;00m:\n\u001b[1;32m    470\u001b[0m     \u001b[38;5;28;01mreturn\u001b[39;00m ready\n",
      "\u001b[0;31mKeyboardInterrupt\u001b[0m: "
     ]
    }
   ],
   "source": [
    "ib.sleep(30)\n",
    "ib.cancelRealTimeBars(bars)"
   ]
  },
  {
   "cell_type": "markdown",
   "metadata": {},
   "source": [
    "The advantage of reqRealTimeBars is that it behaves more robust when the connection to the IB server farms is interrupted. After the connection is restored, the bars from during the network outage will be backfilled and the live bars will resume.\n",
    "\n",
    "reqHistoricalData + keepUpToDate will, at the moment of writing, leave the whole API inoperable after a network interruption."
   ]
  },
  {
   "cell_type": "code",
   "execution_count": 2,
   "metadata": {},
   "outputs": [],
   "source": [
    "ib.disconnect()"
   ]
  },
  {
   "cell_type": "code",
   "execution_count": null,
   "metadata": {},
   "outputs": [],
   "source": []
  }
 ],
 "metadata": {
  "kernelspec": {
   "display_name": "Python 3",
   "language": "python",
   "name": "python3"
  },
  "language_info": {
   "codemirror_mode": {
    "name": "ipython",
    "version": 3
   },
   "file_extension": ".py",
   "mimetype": "text/x-python",
   "name": "python",
   "nbconvert_exporter": "python",
   "pygments_lexer": "ipython3",
   "version": "3.11.9"
  }
 },
 "nbformat": 4,
 "nbformat_minor": 4
}
